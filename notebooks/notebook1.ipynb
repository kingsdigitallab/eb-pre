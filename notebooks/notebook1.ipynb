{
 "cells": [
  {
   "cell_type": "code",
   "execution_count": 4,
   "metadata": {},
   "outputs": [],
   "source": [
    "import sys\n",
    "import os\n",
    "from pathlib import Path\n",
    "sys.path.append(str(Path.cwd().parent))\n",
    "\n",
    "from tools import settings\n",
    "\n",
    "domains = settings.DOMAINS\n",
    "\n",
    "from tools.index import Index\n",
    "index = Index()\n",
    "index.load()\n"
   ]
  },
  {
   "cell_type": "code",
   "execution_count": 5,
   "metadata": {},
   "outputs": [
    {
     "name": "stdout",
     "output_type": "stream",
     "text": [
      "20984 entries for query = edition==7\n",
      "Edition 7: 20984 entries\n",
      "17772 entries for query = edition==9\n",
      "Edition 9: 17772 entries\n"
     ]
    }
   ],
   "source": [
    "for ed in [7, 9]:\n",
    "    l = len(index.query(f'edition=={ed}'))\n",
    "    print(f'Edition {ed}: {l} entries')\n",
    "\n"
   ]
  },
  {
   "cell_type": "code",
   "execution_count": null,
   "metadata": {},
   "outputs": [],
   "source": [
    "# count common entry titles\n"
   ]
  },
  {
   "cell_type": "code",
   "execution_count": null,
   "metadata": {},
   "outputs": [],
   "source": [
    "# count entries that contain the domain\n"
   ]
  }
 ],
 "metadata": {
  "kernelspec": {
   "display_name": "venv",
   "language": "python",
   "name": "python3"
  },
  "language_info": {
   "codemirror_mode": {
    "name": "ipython",
    "version": 3
   },
   "file_extension": ".py",
   "mimetype": "text/x-python",
   "name": "python",
   "nbconvert_exporter": "python",
   "pygments_lexer": "ipython3",
   "version": "3.10.6"
  },
  "orig_nbformat": 4,
  "vscode": {
   "interpreter": {
    "hash": "2327109c9ca5d6b5c3d3689be65b4b6e97050d3f919feae11549504f3af7a5a9"
   }
  }
 },
 "nbformat": 4,
 "nbformat_minor": 2
}
