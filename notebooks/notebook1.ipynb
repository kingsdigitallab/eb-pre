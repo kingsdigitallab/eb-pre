{
 "cells": [
  {
   "cell_type": "code",
   "execution_count": 4,
   "metadata": {},
   "outputs": [],
   "source": [
    "import sys\n",
    "import os\n",
    "from pathlib import Path\n",
    "sys.path.append(str(Path.cwd().parent))\n",
    "\n",
    "from helpers import settings\n",
    "\n",
    "domains = settings.DOMAINS\n",
    "\n",
    "from helpers.index import Index\n",
    "index = Index()\n",
    "index.load()\n"
   ]
  },
  {
   "cell_type": "code",
   "execution_count": 5,
   "metadata": {},
   "outputs": [
    {
     "name": "stdout",
     "output_type": "stream",
     "text": [
      "Edition 7: 20984 entries\n",
      "Edition 9: 17772 entries\n"
     ]
    }
   ],
   "source": [
    "for ed in [7, 9]:\n",
    "    l = len(index.query(f'edition=={ed}'))\n",
    "    print(f'Edition {ed}: {l} entries')\n",
    "\n"
   ]
  },
  {
   "cell_type": "code",
   "execution_count": 6,
   "metadata": {},
   "outputs": [
    {
     "name": "stdout",
     "output_type": "stream",
     "text": [
      "Entries with same titles betwen the two editions: 4540\n"
     ]
    }
   ],
   "source": [
    "# count common entry titles\n",
    "eds_titles = {}\n",
    "for ed in [7, 9]:\n",
    "    eds_titles[ed] = set(index.query(f'edition=={ed}')['title'])\n",
    "\n",
    "print(f'Entries with same titles betwen the two editions: {len(eds_titles[7].intersection(eds_titles[9]))}')\n"
   ]
  },
  {
   "cell_type": "code",
   "execution_count": null,
   "metadata": {},
   "outputs": [],
   "source": []
  },
  {
   "cell_type": "code",
   "execution_count": 7,
   "metadata": {},
   "outputs": [
    {
     "name": "stdout",
     "output_type": "stream",
     "text": [
      "Largest entries in edition 7:\n",
      "                    title     chars\n",
      "BRITAIN, OR GREAT BRITAIN 2266232.0\n",
      "                  ANATOMY 1807477.0\n",
      "                   FRANCE 1612569.0\n",
      "               ENTOMOLOGY 1226118.0\n",
      "               PHYSIOLOGY 1216350.0\n",
      "                   OPTICS 1063342.0\n",
      "                CHEMISTRY 1047956.0\n",
      "                ASTRONOMY 1043013.0\n",
      "                  ENGLAND  883909.0\n",
      "                 MAMMALIA  877684.0\n",
      "               MINERALOGY  858710.0\n",
      "                   BOTANY  820157.0\n",
      "              METAPHYSICS  806593.0\n",
      "                    EGYPT  788109.0\n",
      "              ORNITHOLOGY  751979.0\n",
      "              ELECTRICITY  674962.0\n",
      "                HINDUSTAN  674134.0\n",
      "              ARABLE LAND  668222.0\n",
      "                MECHANICS  655286.0\n",
      "              ICHTHYOLOGY  639235.0\n",
      "Largest entries in edition 9:\n",
      "        title     chars\n",
      "      GEOLOGY 1255095.0\n",
      "      ENGLAND 1099817.0\n",
      "  AGRICULTURE  982341.0\n",
      "       PERSIA  864257.0\n",
      "UNITED STATES  815698.0\n",
      "         ROME  806850.0\n",
      "      ANATOMY  806597.0\n",
      " HORTICULTURE  778829.0\n",
      "  ELECTRICITY  770710.0\n",
      "     MAMMALIA  757597.0\n",
      "    CHEMISTRY  752913.0\n",
      "      GERMANY  735821.0\n",
      "        EGYPT  710537.0\n",
      "    MECHANICS  704200.0\n",
      " ARCHITECTURE  693811.0\n",
      "        INDIA  670611.0\n",
      "        ITALY  665185.0\n",
      "        SPAIN  595265.0\n",
      "       GREECE  591304.0\n",
      "   MINERALOGY  575685.0\n"
     ]
    }
   ],
   "source": [
    "# count entries that contain the domain\n",
    "for ed in [7, 9]:\n",
    "    print(f'Largest entries in edition {ed}:')\n",
    "    df = index.query(f'edition=={ed}').sort_values('chars', ascending=False).loc[:,['title', 'chars']]\n",
    "    print(df.head(20).to_string(index=False))\n"
   ]
  },
  {
   "cell_type": "code",
   "execution_count": null,
   "metadata": {},
   "outputs": [],
   "source": []
  }
 ],
 "metadata": {
  "kernelspec": {
   "display_name": "venv",
   "language": "python",
   "name": "python3"
  },
  "language_info": {
   "codemirror_mode": {
    "name": "ipython",
    "version": 3
   },
   "file_extension": ".py",
   "mimetype": "text/x-python",
   "name": "python",
   "nbconvert_exporter": "python",
   "pygments_lexer": "ipython3",
   "version": "3.10.6"
  },
  "orig_nbformat": 4,
  "vscode": {
   "interpreter": {
    "hash": "2327109c9ca5d6b5c3d3689be65b4b6e97050d3f919feae11549504f3af7a5a9"
   }
  }
 },
 "nbformat": 4,
 "nbformat_minor": 2
}
