{
 "cells": [
  {
   "cell_type": "code",
   "execution_count": 1,
   "metadata": {},
   "outputs": [],
   "source": [
    "import sys\n",
    "import os\n",
    "from pathlib import Path\n",
    "sys.path.append(str(Path.cwd().parent))\n",
    "\n",
    "from helpers import settings\n",
    "\n",
    "domains = settings.DOMAINS\n",
    "\n",
    "from helpers.index import Index\n",
    "index = Index()\n",
    "index.load()\n"
   ]
  },
  {
   "cell_type": "code",
   "execution_count": 3,
   "metadata": {},
   "outputs": [
    {
     "name": "stdout",
     "output_type": "stream",
     "text": [
      "     Topic  Count                                      Name\n",
      "0       -1  15301                  -1_acid_mr_published_air\n",
      "1        0   1499               0_county_borough_1821_acres\n",
      "2        1   1129                   1_law_act_statute_wages\n",
      "3        2    815                   2_paris_madame_louis_la\n",
      "4        3    791             3_islands_island_java_sumatra\n",
      "..     ...    ...                                       ...\n",
      "321    320     10     320_tomsk_irkoutsk_turuchansk_ushaika\n",
      "322    321     10                  321_bruck_saatz_mur_sinn\n",
      "323    322     10  322_simson_faraday_geometry_spottiswoode\n",
      "324    323     10    323_barclay_bellenden_dempster_argenis\n",
      "325    324     10        324_eisteddfod_fenians_sept_flaith\n",
      "\n",
      "[326 rows x 3 columns]\n"
     ]
    }
   ],
   "source": [
    "from helpers.classifiers.guided_topics import GuidedTopics\n",
    "guided_topics = GuidedTopics()\n",
    "model = guided_topics.load_or_create_model(7)\n",
    "print(model.get_topic_info())\n"
   ]
  },
  {
   "cell_type": "code",
   "execution_count": 3,
   "metadata": {},
   "outputs": [],
   "source": [
    "from helpers.corpus import Corpus\n",
    "corpus = Corpus()\n",
    "docs = [\n",
    "    corpus.read_body(aid)\n",
    "    for aid in corpus.read_ids()\n",
    "]"
   ]
  },
  {
   "cell_type": "code",
   "execution_count": 4,
   "metadata": {},
   "outputs": [
    {
     "name": "stderr",
     "output_type": "stream",
     "text": [
      "100%|██████████| 249/249 [00:02<00:00, 99.73it/s] \n"
     ]
    }
   ],
   "source": [
    "hierarchical_topics = model.hierarchical_topics(docs)"
   ]
  },
  {
   "cell_type": "code",
   "execution_count": 5,
   "metadata": {},
   "outputs": [
    {
     "data": {
      "application/vnd.plotly.v1+json": {
       "config": {
        "plotlyServerURL": "https://plot.ly"
       },
       "data": [
        {
         "hoverinfo": "text",
         "marker": {
          "color": "rgb(61,153,112)"
         },
         "mode": "lines",
         "text": [
          "persia_khosru_915778_oa0os_usbegs",
          "",
          "",
          "vol_mongoos_mungoos_444_916324"
         ],
         "type": "scatter",
         "x": [
          0,
          0.8039551863335402,
          0.8039551863335402,
          0
         ],
         "xaxis": "x",
         "y": [
          -5,
          -5,
          -15,
          -15
         ],
         "yaxis": "y"
        },
        {
         "hoverinfo": "text",
         "marker": {
          "color": "rgb(61,153,112)"
         },
         "mode": "lines",
         "text": [
          "vii_hermupolis_753754_783_769",
          "",
          "",
          "vol_persia_mongoos_see_khosru"
         ],
         "type": "scatter",
         "x": [
          0.8039551863335402,
          0.8714092021340749,
          0.8714092021340749,
          0
         ],
         "xaxis": "x",
         "y": [
          -10,
          -10,
          -25,
          -25
         ],
         "yaxis": "y"
        },
        {
         "hoverinfo": "text",
         "marker": {
          "color": "rgb(255,65,54)"
         },
         "mode": "lines",
         "text": [
          "vol_see_persia_mongoos_mungoos",
          "",
          "",
          "sainthilaire_loanda_trotzendorf_marunique_runion"
         ],
         "type": "scatter",
         "x": [
          0,
          0.898117606511763,
          0.898117606511763,
          0
         ],
         "xaxis": "x",
         "y": [
          -35,
          -35,
          -45,
          -45
         ],
         "yaxis": "y"
        },
        {
         "hoverinfo": "text",
         "marker": {
          "color": "rgb(255,65,54)"
         },
         "mode": "lines",
         "text": [
          "see_vsrhely_tostatus_jaghiredar_dixmerie",
          "",
          "",
          "ornithology_index_mew_bernicl_bulfinch"
         ],
         "type": "scatter",
         "x": [
          0.898117606511763,
          0.9549864185023398,
          0.9549864185023398,
          0
         ],
         "xaxis": "x",
         "y": [
          -40,
          -40,
          -55,
          -55
         ],
         "yaxis": "y"
        },
        {
         "hoverinfo": "text",
         "marker": {
          "color": "rgb(0,116,217)"
         },
         "mode": "lines",
         "text": [
          "vol_see_persia_mongoos_mungoos",
          "",
          "",
          "see_ornithology_vsrhely_tostatus_index"
         ],
         "type": "scatter",
         "x": [
          0.8714092021340749,
          1.0945179601767439,
          1.0945179601767439,
          0.9549864185023398
         ],
         "xaxis": "x",
         "y": [
          -17.5,
          -17.5,
          -47.5,
          -47.5
         ],
         "yaxis": "y"
        },
        {
         "hoverinfo": "text",
         "marker": {
          "color": "rgb(35,205,205)"
         },
         "mode": "lines",
         "text": [
          "batenites_batava_batavorum_batton_karmatians",
          "",
          "",
          "barrel_measure_aume_achteling_gallons"
         ],
         "type": "scatter",
         "x": [
          0,
          0.7348046836471651,
          0.7348046836471651,
          0
         ],
         "xaxis": "x",
         "y": [
          -75,
          -75,
          -85,
          -85
         ],
         "yaxis": "y"
        },
        {
         "hoverinfo": "text",
         "marker": {
          "color": "rgb(35,205,205)"
         },
         "mode": "lines",
         "text": [
          "constellation_astronomy_star_heveliuss_ursa",
          "",
          "",
          "divination_crithomancy_hepatoscopia_rhapsodomancy_sieve"
         ],
         "type": "scatter",
         "x": [
          0,
          0.8791692928635062,
          0.8791692928635062,
          0.7348046836471651
         ],
         "xaxis": "x",
         "y": [
          -65,
          -65,
          -80,
          -80
         ],
         "yaxis": "y"
        },
        {
         "hoverinfo": "text",
         "marker": {
          "color": "rgb(133,20,75)"
         },
         "mode": "lines",
         "text": [
          "constellation_divination_astronomy_star_heveliuss",
          "",
          "",
          "aconitum_aconite_acanthus_trivial_monkshood"
         ],
         "type": "scatter",
         "x": [
          0,
          0.7379689284684128,
          0.7379689284684128,
          0
         ],
         "xaxis": "x",
         "y": [
          -95,
          -95,
          -105,
          -105
         ],
         "yaxis": "y"
        },
        {
         "hoverinfo": "text",
         "marker": {
          "color": "rgb(133,20,75)"
         },
         "mode": "lines",
         "text": [
          "barrel_batenites_measure_achteling_aume",
          "",
          "",
          "constellation_divination_aconitum_astronomy_star"
         ],
         "type": "scatter",
         "x": [
          0.7379689284684128,
          0.9919627999153412,
          0.9919627999153412,
          0
         ],
         "xaxis": "x",
         "y": [
          -100,
          -100,
          -115,
          -115
         ],
         "yaxis": "y"
        },
        {
         "hoverinfo": "text",
         "marker": {
          "color": "rgb(0,116,217)"
         },
         "mode": "lines",
         "text": [
          "affirmative_syllogism_propositions_logic_affirmatives",
          "",
          "",
          "preexistent_preexistence_consequential_pereyra_preterition"
         ],
         "type": "scatter",
         "x": [
          0.8791692928635062,
          1.2791010628839035,
          1.2791010628839035,
          0.9919627999153412
         ],
         "xaxis": "x",
         "y": [
          -72.5,
          -72.5,
          -107.5,
          -107.5
         ],
         "yaxis": "y"
        },
        {
         "hoverinfo": "text",
         "marker": {
          "color": "rgb(0,116,217)"
         },
         "mode": "lines",
         "text": [
          "affirmative_preexistent_syllogism_preexistence_propositions",
          "",
          "",
          "apostasy_apostasis_clericatu_epistemonarch_applicdby"
         ],
         "type": "scatter",
         "x": [
          1.0945179601767439,
          1.6328293393461915,
          1.6328293393461915,
          1.2791010628839035
         ],
         "xaxis": "x",
         "y": [
          -32.5,
          -32.5,
          -90,
          -90
         ],
         "yaxis": "y"
        },
        {
         "hoverinfo": "text",
         "marker": {
          "color": "rgb(255,220,0)"
         },
         "mode": "lines",
         "text": [
          "coenobites_convent_nuns_coenobite_nun",
          "",
          "",
          "architriclinus_archchancellors_archigubernus_archiguberneta_archigerontes"
         ],
         "type": "scatter",
         "x": [
          0,
          0.7424664523913866,
          0.7424664523913866,
          0
         ],
         "xaxis": "x",
         "y": [
          -125,
          -125,
          -135,
          -135
         ],
         "yaxis": "y"
        },
        {
         "hoverinfo": "text",
         "marker": {
          "color": "rgb(255,220,0)"
         },
         "mode": "lines",
         "text": [
          "affirmative_preexistent_syllogism_preexistence_propositions",
          "",
          "",
          "architriclinus_coenobites_convent_archchancellors_archigubernus"
         ],
         "type": "scatter",
         "x": [
          0,
          0.6326352904103549,
          0.6326352904103549,
          0
         ],
         "xaxis": "x",
         "y": [
          -145,
          -145,
          -155,
          -155
         ],
         "yaxis": "y"
        },
        {
         "hoverinfo": "text",
         "marker": {
          "color": "rgb(255,220,0)"
         },
         "mode": "lines",
         "text": [
          "constellation_divination_aconitum_astronomy_star",
          "",
          "",
          "affirmative_preexistent_syllogism_preexistence_propositions"
         ],
         "type": "scatter",
         "x": [
          0.6326352904103549,
          0.7636351397873671,
          0.7636351397873671,
          0
         ],
         "xaxis": "x",
         "y": [
          -150,
          -150,
          -165,
          -165
         ],
         "yaxis": "y"
        },
        {
         "hoverinfo": "text",
         "marker": {
          "color": "rgb(255,220,0)"
         },
         "mode": "lines",
         "text": [
          "bacon_occam_opus_majus_tertium",
          "",
          "",
          "wycliffe_wycliffes_coronet_zizaniorum_basinet"
         ],
         "type": "scatter",
         "x": [
          0.7424664523913866,
          0.827509823966623,
          0.827509823966623,
          0.7636351397873671
         ],
         "xaxis": "x",
         "y": [
          -130,
          -130,
          -157.5,
          -157.5
         ],
         "yaxis": "y"
        },
        {
         "hoverinfo": "text",
         "marker": {
          "color": "rgb(40,35,35)"
         },
         "mode": "lines",
         "text": [
          "gaelic_mac_irish_highlands_celtic",
          "",
          "",
          "wycliffe_wycliffes_bacon_occam_opus"
         ],
         "type": "scatter",
         "x": [
          0,
          0.8278611140389013,
          0.8278611140389013,
          0
         ],
         "xaxis": "x",
         "y": [
          -175,
          -175,
          -185,
          -185
         ],
         "yaxis": "y"
        },
        {
         "hoverinfo": "text",
         "marker": {
          "color": "rgb(61,153,112)"
         },
         "mode": "lines",
         "text": [
          "aesir_baldur_brunhild_loki_kriemhild",
          "",
          "",
          "gaelic_wycliffe_wycliffes_bacon_occam"
         ],
         "type": "scatter",
         "x": [
          0,
          0.9388351802220851,
          0.9388351802220851,
          0
         ],
         "xaxis": "x",
         "y": [
          -195,
          -195,
          -205,
          -205
         ],
         "yaxis": "y"
        },
        {
         "hoverinfo": "text",
         "marker": {
          "color": "rgb(0,116,217)"
         },
         "mode": "lines",
         "text": [
          "gaelic_wycliffe_aesir_baldur_wycliffes",
          "",
          "",
          "caricature_grotesque_daumier_gillray_philipon"
         ],
         "type": "scatter",
         "x": [
          0.8278611140389013,
          1.037386392012957,
          1.037386392012957,
          0.9388351802220851
         ],
         "xaxis": "x",
         "y": [
          -180,
          -180,
          -200,
          -200
         ],
         "yaxis": "y"
        },
        {
         "hoverinfo": "text",
         "marker": {
          "color": "rgb(0,116,217)"
         },
         "mode": "lines",
         "text": [
          "rabbenu_rashi_talmud_rabbi_shelomoh",
          "",
          "",
          "gaelic_wycliffe_aesir_baldur_wycliffes"
         ],
         "type": "scatter",
         "x": [
          0.827509823966623,
          1.1577657489295519,
          1.1577657489295519,
          1.037386392012957
         ],
         "xaxis": "x",
         "y": [
          -143.75,
          -143.75,
          -190,
          -190
         ],
         "yaxis": "y"
        },
        {
         "hoverinfo": "text",
         "marker": {
          "color": "rgb(255,65,54)"
         },
         "mode": "lines",
         "text": [
          "purcell_organist_music_composer_anthems",
          "",
          "",
          "music_allegro_canto_ital_instrumental"
         ],
         "type": "scatter",
         "x": [
          0,
          0.8044794146899906,
          0.8044794146899906,
          0
         ],
         "xaxis": "x",
         "y": [
          -215,
          -215,
          -225,
          -225
         ],
         "yaxis": "y"
        },
        {
         "hoverinfo": "text",
         "marker": {
          "color": "rgb(35,205,205)"
         },
         "mode": "lines",
         "text": [
          "sonnet_sestet_spondee_quatrains_verses",
          "",
          "",
          "muses_mnemosyne_euterpe_calliope_clio"
         ],
         "type": "scatter",
         "x": [
          0,
          0.7818502831008637,
          0.7818502831008637,
          0
         ],
         "xaxis": "x",
         "y": [
          -235,
          -235,
          -245,
          -245
         ],
         "yaxis": "y"
        },
        {
         "hoverinfo": "text",
         "marker": {
          "color": "rgb(35,205,205)"
         },
         "mode": "lines",
         "text": [
          "music_purcell_organist_composer_anthems",
          "",
          "",
          "sonnet_sestet_spondee_quatrains_verses"
         ],
         "type": "scatter",
         "x": [
          0,
          0.8139237542886809,
          0.8139237542886809,
          0
         ],
         "xaxis": "x",
         "y": [
          -265,
          -265,
          -275,
          -275
         ],
         "yaxis": "y"
        },
        {
         "hoverinfo": "text",
         "marker": {
          "color": "rgb(35,205,205)"
         },
         "mode": "lines",
         "text": [
          "gaelic_wycliffe_rabbenu_rashi_aesir",
          "",
          "",
          "sonnet_music_purcell_sestet_organist"
         ],
         "type": "scatter",
         "x": [
          0,
          0.9354243280624417,
          0.9354243280624417,
          0.8139237542886809
         ],
         "xaxis": "x",
         "y": [
          -255,
          -255,
          -270,
          -270
         ],
         "yaxis": "y"
        },
        {
         "hoverinfo": "text",
         "marker": {
          "color": "rgb(35,205,205)"
         },
         "mode": "lines",
         "text": [
          "constellation_divination_aconitum_astronomy_affirmative",
          "",
          "",
          "gaelic_wycliffe_rabbenu_rashi_sonnet"
         ],
         "type": "scatter",
         "x": [
          0.7818502831008637,
          0.9843867860444113,
          0.9843867860444113,
          0.9354243280624417
         ],
         "xaxis": "x",
         "y": [
          -240,
          -240,
          -262.5,
          -262.5
         ],
         "yaxis": "y"
        },
        {
         "hoverinfo": "text",
         "marker": {
          "color": "rgb(0,116,217)"
         },
         "mode": "lines",
         "text": [
          "mates_marines_quartergunners_sixpounders_mate",
          "",
          "",
          "cumae_cumaeans_taormina_tauromenium_naxos"
         ],
         "type": "scatter",
         "x": [
          0.8044794146899906,
          1.2822955843083796,
          1.2822955843083796,
          0.9843867860444113
         ],
         "xaxis": "x",
         "y": [
          -220,
          -220,
          -251.25,
          -251.25
         ],
         "yaxis": "y"
        },
        {
         "hoverinfo": "text",
         "marker": {
          "color": "rgb(0,116,217)"
         },
         "mode": "lines",
         "text": [
          "gladiators_arena_circus_amphitheatre_amphitheatres",
          "",
          "",
          "games_agon_olympian_olympiad_olympia"
         ],
         "type": "scatter",
         "x": [
          1.1577657489295519,
          2.1365270736885793,
          2.1365270736885793,
          1.2822955843083796
         ],
         "xaxis": "x",
         "y": [
          -166.875,
          -166.875,
          -235.625,
          -235.625
         ],
         "yaxis": "y"
        },
        {
         "hoverinfo": "text",
         "marker": {
          "color": "rgb(0,116,217)"
         },
         "mode": "lines",
         "text": [
          "gladiators_games_circus_arena_amphitheatre",
          "",
          "",
          "arvales_gerontes_ostracism_lexiarchi_logistae"
         ],
         "type": "scatter",
         "x": [
          1.6328293393461915,
          2.3603982486441994,
          2.3603982486441994,
          2.1365270736885793
         ],
         "xaxis": "x",
         "y": [
          -61.25,
          -61.25,
          -201.25,
          -201.25
         ],
         "yaxis": "y"
        },
        {
         "hoverinfo": "text",
         "marker": {
          "color": "rgb(61,153,112)"
         },
         "mode": "lines",
         "text": [
          "mates_marines_cumae_quartergunners_sixpounders",
          "",
          "",
          "gladiators_games_circus_arena_amphitheatre"
         ],
         "type": "scatter",
         "x": [
          0,
          0.8580505355432473,
          0.8580505355432473,
          0
         ],
         "xaxis": "x",
         "y": [
          -295,
          -295,
          -305,
          -305
         ],
         "yaxis": "y"
        },
        {
         "hoverinfo": "text",
         "marker": {
          "color": "rgb(0,116,217)"
         },
         "mode": "lines",
         "text": [
          "column_columns_architecture_octostyle_pycnostyle",
          "",
          "",
          "temples_jain_sikri_ellora_hindu"
         ],
         "type": "scatter",
         "x": [
          0.8580505355432473,
          1.0010060792699729,
          1.0010060792699729,
          0
         ],
         "xaxis": "x",
         "y": [
          -300,
          -300,
          -315,
          -315
         ],
         "yaxis": "y"
        },
        {
         "hoverinfo": "text",
         "marker": {
          "color": "rgb(0,116,217)"
         },
         "mode": "lines",
         "text": [
          "gladiators_games_circus_mates_arena",
          "",
          "",
          "column_columns_architecture_temple_temples"
         ],
         "type": "scatter",
         "x": [
          0,
          1.0308858018460139,
          1.0308858018460139,
          1.0010060792699729
         ],
         "xaxis": "x",
         "y": [
          -285,
          -285,
          -307.5,
          -307.5
         ],
         "yaxis": "y"
        },
        {
         "hoverinfo": "text",
         "marker": {
          "color": "rgb(255,65,54)"
         },
         "mode": "lines",
         "text": [
          "manege_horse_airings_mange_horsepower",
          "",
          "",
          "couriers_hemerodromi_dispatches_angari_mutationes"
         ],
         "type": "scatter",
         "x": [
          0,
          0.7922695057672722,
          0.7922695057672722,
          0
         ],
         "xaxis": "x",
         "y": [
          -325,
          -325,
          -335,
          -335
         ],
         "yaxis": "y"
        },
        {
         "hoverinfo": "text",
         "marker": {
          "color": "rgb(255,65,54)"
         },
         "mode": "lines",
         "text": [
          "decempeda_pedatura_palmus_fingerbreadths_leaguers",
          "",
          "",
          "manege_couriers_horse_airings_mange"
         ],
         "type": "scatter",
         "x": [
          0.7922695057672722,
          0.9629758381214005,
          0.9629758381214005,
          0
         ],
         "xaxis": "x",
         "y": [
          -330,
          -330,
          -345,
          -345
         ],
         "yaxis": "y"
        },
        {
         "hoverinfo": "text",
         "marker": {
          "color": "rgb(0,116,217)"
         },
         "mode": "lines",
         "text": [
          "manege_couriers_horse_airings_mange",
          "",
          "",
          "pillory_guillotine_punishment_healfang_furca"
         ],
         "type": "scatter",
         "x": [
          1.0308858018460139,
          1.1796033967428745,
          1.1796033967428745,
          0.9629758381214005
         ],
         "xaxis": "x",
         "y": [
          -296.25,
          -296.25,
          -337.5,
          -337.5
         ],
         "yaxis": "y"
        },
        {
         "hoverinfo": "text",
         "marker": {
          "color": "rgb(35,205,205)"
         },
         "mode": "lines",
         "text": [
          "gladiators_games_circus_mates_arena",
          "",
          "",
          "manege_pillory_couriers_guillotine_punishment"
         ],
         "type": "scatter",
         "x": [
          0,
          0.9378210787796574,
          0.9378210787796574,
          0
         ],
         "xaxis": "x",
         "y": [
          -355,
          -355,
          -365,
          -365
         ],
         "yaxis": "y"
        },
        {
         "hoverinfo": "text",
         "marker": {
          "color": "rgb(133,20,75)"
         },
         "mode": "lines",
         "text": [
          "gaelic_wycliffe_rabbenu_rashi_sonnet",
          "",
          "",
          "gladiators_games_manege_circus_mates"
         ],
         "type": "scatter",
         "x": [
          0,
          0.9514056665471713,
          0.9514056665471713,
          0
         ],
         "xaxis": "x",
         "y": [
          -375,
          -375,
          -385,
          -385
         ],
         "yaxis": "y"
        },
        {
         "hoverinfo": "text",
         "marker": {
          "color": "rgb(0,116,217)"
         },
         "mode": "lines",
         "text": [
          "see_ornithology_vol_tostatus_vsrhely",
          "",
          "",
          "gaelic_games_gladiators_wycliffe_rabbenu"
         ],
         "type": "scatter",
         "x": [
          0.9378210787796574,
          1.0297078248829614,
          1.0297078248829614,
          0.9514056665471713
         ],
         "xaxis": "x",
         "y": [
          -360,
          -360,
          -380,
          -380
         ],
         "yaxis": "y"
        },
        {
         "hoverinfo": "text",
         "marker": {
          "color": "rgb(0,116,217)"
         },
         "mode": "lines",
         "text": [
          "hindustan_lat_province_town_bahar",
          "",
          "",
          "hindustan_rungpoor_lat_mungulore_province715598"
         ],
         "type": "scatter",
         "x": [
          1.1796033967428745,
          1.5453397159988436,
          1.5453397159988436,
          1.0297078248829614
         ],
         "xaxis": "x",
         "y": [
          -316.875,
          -316.875,
          -370,
          -370
         ],
         "yaxis": "y"
        },
        {
         "hoverinfo": "text",
         "marker": {
          "color": "rgb(255,220,0)"
         },
         "mode": "lines",
         "text": [
          "narnoul_hindustan_nilcund_gunneis_narnallah",
          "",
          "",
          "hindustan_lat_province_town_bahar"
         ],
         "type": "scatter",
         "x": [
          0,
          0.9868422015988765,
          0.9868422015988765,
          0
         ],
         "xaxis": "x",
         "y": [
          -395,
          -395,
          -405,
          -405
         ],
         "yaxis": "y"
        },
        {
         "hoverinfo": "text",
         "marker": {
          "color": "rgb(40,35,35)"
         },
         "mode": "lines",
         "text": [
          "hindustan_lat_province_town_bahar",
          "",
          "",
          "goorackpoor_ghizni_hindustan_ghore_ghoraghaut"
         ],
         "type": "scatter",
         "x": [
          0,
          0.7655412176070013,
          0.7655412176070013,
          0
         ],
         "xaxis": "x",
         "y": [
          -415,
          -415,
          -425,
          -425
         ],
         "yaxis": "y"
        },
        {
         "hoverinfo": "text",
         "marker": {
          "color": "rgb(0,116,217)"
         },
         "mode": "lines",
         "text": [
          "carnatic_pondicherry_trinomalee_79_trivalenoor",
          "",
          "",
          "hindustan_lat_province_town_bahar"
         ],
         "type": "scatter",
         "x": [
          0.9868422015988765,
          1.2217263759433161,
          1.2217263759433161,
          0.7655412176070013
         ],
         "xaxis": "x",
         "y": [
          -400,
          -400,
          -420,
          -420
         ],
         "yaxis": "y"
        },
        {
         "hoverinfo": "text",
         "marker": {
          "color": "rgb(0,116,217)"
         },
         "mode": "lines",
         "text": [
          "neutra_neutitschein_hradisch_prerau_moravia",
          "",
          "",
          "buccari_quarano_bicla_buccaricza_kraljevicza"
         ],
         "type": "scatter",
         "x": [
          0,
          1.0176350943372654,
          1.0176350943372654,
          0
         ],
         "xaxis": "x",
         "y": [
          -435,
          -435,
          -445,
          -445
         ],
         "yaxis": "y"
        },
        {
         "hoverinfo": "text",
         "marker": {
          "color": "rgb(61,153,112)"
         },
         "mode": "lines",
         "text": [
          "neutra_neutitschein_buccari_hradisch_prerau",
          "",
          "",
          "bruck_pusterthal_rientz_brixen_saatz"
         ],
         "type": "scatter",
         "x": [
          0,
          0.8522490834142257,
          0.8522490834142257,
          0
         ],
         "xaxis": "x",
         "y": [
          -455,
          -455,
          -465,
          -465
         ],
         "yaxis": "y"
        },
        {
         "hoverinfo": "text",
         "marker": {
          "color": "rgb(255,65,54)"
         },
         "mode": "lines",
         "text": [
          "ardres_meance_armiers_arnayleduc_outdazzle",
          "",
          "",
          "bruck_neutra_neutitschein_pusterthal_buccari"
         ],
         "type": "scatter",
         "x": [
          0,
          0.977311017959251,
          0.977311017959251,
          0
         ],
         "xaxis": "x",
         "y": [
          -475,
          -475,
          -485,
          -485
         ],
         "yaxis": "y"
        },
        {
         "hoverinfo": "text",
         "marker": {
          "color": "rgb(0,116,217)"
         },
         "mode": "lines",
         "text": [
          "calvi_intendancy_calatanisetta_calatia_giovanniello",
          "",
          "",
          "chiusa_chiusi_chiaramonte_rapallo_sturla"
         ],
         "type": "scatter",
         "x": [
          0.8522490834142257,
          1.0362002552736937,
          1.0362002552736937,
          0.977311017959251
         ],
         "xaxis": "x",
         "y": [
          -460,
          -460,
          -480,
          -480
         ],
         "yaxis": "y"
        },
        {
         "hoverinfo": "text",
         "marker": {
          "color": "rgb(0,116,217)"
         },
         "mode": "lines",
         "text": [
          "chiusa_intendancy_calvi_calatanisetta_calatia",
          "",
          "",
          "ceneda_cephaloedium_cervia_cefalu_ceva"
         ],
         "type": "scatter",
         "x": [
          1.0176350943372654,
          1.1065260767111478,
          1.1065260767111478,
          1.0362002552736937
         ],
         "xaxis": "x",
         "y": [
          -440,
          -440,
          -470,
          -470
         ],
         "yaxis": "y"
        },
        {
         "hoverinfo": "text",
         "marker": {
          "color": "rgb(35,205,205)"
         },
         "mode": "lines",
         "text": [
          "bruck_neutra_neutitschein_pusterthal_buccari",
          "",
          "",
          "ceneda_chiusa_intendancy_calvi_calatanisetta"
         ],
         "type": "scatter",
         "x": [
          0,
          0.8912696570023824,
          0.8912696570023824,
          0
         ],
         "xaxis": "x",
         "y": [
          -495,
          -495,
          -505,
          -505
         ],
         "yaxis": "y"
        },
        {
         "hoverinfo": "text",
         "marker": {
          "color": "rgb(0,116,217)"
         },
         "mode": "lines",
         "text": [
          "hindustan_lat_province_town_bahar",
          "",
          "",
          "ceneda_bruck_chiusa_intendancy_neutra"
         ],
         "type": "scatter",
         "x": [
          0.8912696570023824,
          1.0278195250977036,
          1.0278195250977036,
          0
         ],
         "xaxis": "x",
         "y": [
          -500,
          -500,
          -515,
          -515
         ],
         "yaxis": "y"
        },
        {
         "hoverinfo": "text",
         "marker": {
          "color": "rgb(0,116,217)"
         },
         "mode": "lines",
         "text": [
          "gaelic_games_gladiators_wycliffe_rabbenu",
          "",
          "",
          "hindustan_lat_province_town_district"
         ],
         "type": "scatter",
         "x": [
          1.1065260767111478,
          1.3970804576013813,
          1.3970804576013813,
          1.0278195250977036
         ],
         "xaxis": "x",
         "y": [
          -455,
          -455,
          -507.5,
          -507.5
         ],
         "yaxis": "y"
        },
        {
         "hoverinfo": "text",
         "marker": {
          "color": "rgb(0,116,217)"
         },
         "mode": "lines",
         "text": [
          "department_loire_arrondissements_seine_normandy",
          "",
          "",
          "arrondissement_department_communes_cantons_france"
         ],
         "type": "scatter",
         "x": [
          1.2217263759433161,
          1.6949208179179833,
          1.6949208179179833,
          1.3970804576013813
         ],
         "xaxis": "x",
         "y": [
          -410,
          -410,
          -481.25,
          -481.25
         ],
         "yaxis": "y"
        },
        {
         "hoverinfo": "text",
         "marker": {
          "color": "rgb(0,116,217)"
         },
         "mode": "lines",
         "text": [
          "department_arrondissement_communes_cantons_loire",
          "",
          "",
          "malo_brest_toulon_rochelle_rochefort"
         ],
         "type": "scatter",
         "x": [
          0,
          1.0358767906118278,
          1.0358767906118278,
          0
         ],
         "xaxis": "x",
         "y": [
          -525,
          -525,
          -535,
          -535
         ],
         "yaxis": "y"
        },
        {
         "hoverinfo": "text",
         "marker": {
          "color": "rgb(0,116,217)"
         },
         "mode": "lines",
         "text": [
          "aubin_aumale_aube_department_auch",
          "",
          "",
          "department_arrondissement_communes_cantons_loire"
         ],
         "type": "scatter",
         "x": [
          1.0358767906118278,
          1.0940484426597243,
          1.0940484426597243,
          0
         ],
         "xaxis": "x",
         "y": [
          -530,
          -530,
          -545,
          -545
         ],
         "yaxis": "y"
        },
        {
         "hoverinfo": "text",
         "marker": {
          "color": "rgb(0,116,217)"
         },
         "mode": "lines",
         "text": [
          "mexico_chihuahua_san_vera_guadalajara",
          "",
          "",
          "alhambra_moorish_granada_abencerrages_alcantara"
         ],
         "type": "scatter",
         "x": [
          0,
          1.0618297431209471,
          1.0618297431209471,
          0
         ],
         "xaxis": "x",
         "y": [
          -565,
          -565,
          -575,
          -575
         ],
         "yaxis": "y"
        },
        {
         "hoverinfo": "text",
         "marker": {
          "color": "rgb(0,116,217)"
         },
         "mode": "lines",
         "text": [
          "oran_mascara_alkebir_moune_mers",
          "",
          "",
          "mexico_alhambra_moorish_granada_chihuahua"
         ],
         "type": "scatter",
         "x": [
          0,
          1.2245716370486415,
          1.2245716370486415,
          1.0618297431209471
         ],
         "xaxis": "x",
         "y": [
          -555,
          -555,
          -570,
          -570
         ],
         "yaxis": "y"
        },
        {
         "hoverinfo": "text",
         "marker": {
          "color": "rgb(0,116,217)"
         },
         "mode": "lines",
         "text": [
          "turkey_mosques_shemaha_shumla_vilayet",
          "",
          "",
          "bosnia_warasdin_slavonia_croatia_belgrade"
         ],
         "type": "scatter",
         "x": [
          1.2245716370486415,
          1.277901099600511,
          1.277901099600511,
          0
         ],
         "xaxis": "x",
         "y": [
          -562.5,
          -562.5,
          -585,
          -585
         ],
         "yaxis": "y"
        },
        {
         "hoverinfo": "text",
         "marker": {
          "color": "rgb(0,116,217)"
         },
         "mode": "lines",
         "text": [
          "mexico_alhambra_oran_moorish_granada",
          "",
          "",
          "turkey_mosques_shemaha_turks_turkish"
         ],
         "type": "scatter",
         "x": [
          1.0940484426597243,
          1.328142512321401,
          1.328142512321401,
          1.277901099600511
         ],
         "xaxis": "x",
         "y": [
          -537.5,
          -537.5,
          -573.75,
          -573.75
         ],
         "yaxis": "y"
        },
        {
         "hoverinfo": "text",
         "marker": {
          "color": "rgb(0,116,217)"
         },
         "mode": "lines",
         "text": [
          "department_arrondissement_communes_cantons_loire",
          "",
          "",
          "mosques_turkey_mexico_alhambra_shemaha"
         ],
         "type": "scatter",
         "x": [
          1.6949208179179833,
          1.795137819253964,
          1.795137819253964,
          1.328142512321401
         ],
         "xaxis": "x",
         "y": [
          -445.625,
          -445.625,
          -555.625,
          -555.625
         ],
         "yaxis": "y"
        },
        {
         "hoverinfo": "text",
         "marker": {
          "color": "rgb(0,116,217)"
         },
         "mode": "lines",
         "text": [
          "yenisei_tobolsk_irkutsk_lena_asiatic",
          "",
          "",
          "caucasus_tiflis_caspian_rion_georgia"
         ],
         "type": "scatter",
         "x": [
          1.5453397159988436,
          2.9479968535853076,
          2.9479968535853076,
          1.795137819253964
         ],
         "xaxis": "x",
         "y": [
          -343.4375,
          -343.4375,
          -500.625,
          -500.625
         ],
         "yaxis": "y"
        },
        {
         "hoverinfo": "text",
         "marker": {
          "color": "rgb(0,116,217)"
         },
         "mode": "lines",
         "text": [
          "caucasus_tiflis_yenisei_caspian_tobolsk",
          "",
          "",
          "oxus_hissar_bokhara_pamir_panjah"
         ],
         "type": "scatter",
         "x": [
          0,
          1.1559836240507662,
          1.1559836240507662,
          0
         ],
         "xaxis": "x",
         "y": [
          -595,
          -595,
          -605,
          -605
         ],
         "yaxis": "y"
        },
        {
         "hoverinfo": "text",
         "marker": {
          "color": "rgb(0,116,217)"
         },
         "mode": "lines",
         "text": [
          "bosphorus_crimea_sea_caffa_black",
          "",
          "",
          "caucasus_tiflis_caspian_yenisei_oxus"
         ],
         "type": "scatter",
         "x": [
          1.1559836240507662,
          1.1949829516271735,
          1.1949829516271735,
          0
         ],
         "xaxis": "x",
         "y": [
          -600,
          -600,
          -615,
          -615
         ],
         "yaxis": "y"
        },
        {
         "hoverinfo": "text",
         "marker": {
          "color": "rgb(61,153,112)"
         },
         "mode": "lines",
         "text": [
          "oka_volga_dnieper_moscow_nijni",
          "",
          "",
          "moscow_petersburg_russia_novgorod_russian"
         ],
         "type": "scatter",
         "x": [
          0,
          0.9836115033007258,
          0.9836115033007258,
          0
         ],
         "xaxis": "x",
         "y": [
          -635,
          -635,
          -645,
          -645
         ],
         "yaxis": "y"
        },
        {
         "hoverinfo": "text",
         "marker": {
          "color": "rgb(0,116,217)"
         },
         "mode": "lines",
         "text": [
          "caucasus_caspian_tiflis_russian_yenisei",
          "",
          "",
          "moscow_russia_petersburg_volga_oka"
         ],
         "type": "scatter",
         "x": [
          0,
          1.1690421839550922,
          1.1690421839550922,
          0.9836115033007258
         ],
         "xaxis": "x",
         "y": [
          -625,
          -625,
          -640,
          -640
         ],
         "yaxis": "y"
        },
        {
         "hoverinfo": "text",
         "marker": {
          "color": "rgb(0,116,217)"
         },
         "mode": "lines",
         "text": [
          "moscow_russia_russian_caucasus_petersburg",
          "",
          "",
          "esthonian_oesel_esthonians_reval_arensburg"
         ],
         "type": "scatter",
         "x": [
          1.1949829516271735,
          1.567447991408575,
          1.567447991408575,
          1.1690421839550922
         ],
         "xaxis": "x",
         "y": [
          -607.5,
          -607.5,
          -632.5,
          -632.5
         ],
         "yaxis": "y"
        },
        {
         "hoverinfo": "text",
         "marker": {
          "color": "rgb(255,65,54)"
         },
         "mode": "lines",
         "text": [
          "department_arrondissement_communes_cantons_loire",
          "",
          "",
          "moscow_russia_russian_caucasus_petersburg"
         ],
         "type": "scatter",
         "x": [
          0,
          0.9754396215707127,
          0.9754396215707127,
          0
         ],
         "xaxis": "x",
         "y": [
          -655,
          -655,
          -665,
          -665
         ],
         "yaxis": "y"
        },
        {
         "hoverinfo": "text",
         "marker": {
          "color": "rgb(35,205,205)"
         },
         "mode": "lines",
         "text": [
          "palmyra_lebanon_damascus_druses_syria",
          "",
          "",
          "mecca_arabia_yemen_medina_pilgrimage"
         ],
         "type": "scatter",
         "x": [
          0,
          0.9036807208606906,
          0.9036807208606906,
          0
         ],
         "xaxis": "x",
         "y": [
          -685,
          -685,
          -695,
          -695
         ],
         "yaxis": "y"
        },
        {
         "hoverinfo": "text",
         "marker": {
          "color": "rgb(0,116,217)"
         },
         "mode": "lines",
         "text": [
          "persia_tigris_baghdad_bagdad_ispahan",
          "",
          "",
          "mecca_arabia_yemen_palmyra_damascus"
         ],
         "type": "scatter",
         "x": [
          0,
          1.0378765248701194,
          1.0378765248701194,
          0.9036807208606906
         ],
         "xaxis": "x",
         "y": [
          -675,
          -675,
          -690,
          -690
         ],
         "yaxis": "y"
        },
        {
         "hoverinfo": "text",
         "marker": {
          "color": "rgb(133,20,75)"
         },
         "mode": "lines",
         "text": [
          "mecca_arabia_yemen_palmyra_damascus",
          "",
          "",
          "morocco_sahara_algeria_atlas_algiers"
         ],
         "type": "scatter",
         "x": [
          0,
          0.9207865142773053,
          0.9207865142773053,
          0
         ],
         "xaxis": "x",
         "y": [
          -705,
          -705,
          -715,
          -715
         ],
         "yaxis": "y"
        },
        {
         "hoverinfo": "text",
         "marker": {
          "color": "rgb(0,116,217)"
         },
         "mode": "lines",
         "text": [
          "antioch_alexandria_seleucus_orontes_amrou",
          "",
          "",
          "mecca_arabia_yemen_morocco_arabs"
         ],
         "type": "scatter",
         "x": [
          1.0378765248701194,
          1.068244366301247,
          1.068244366301247,
          0.9207865142773053
         ],
         "xaxis": "x",
         "y": [
          -682.5,
          -682.5,
          -710,
          -710
         ],
         "yaxis": "y"
        },
        {
         "hoverinfo": "text",
         "marker": {
          "color": "rgb(0,116,217)"
         },
         "mode": "lines",
         "text": [
          "spain_province_madrid_seville_tagus",
          "",
          "",
          "italy_di_cathedral_lombardy_city"
         ],
         "type": "scatter",
         "x": [
          0.9754396215707127,
          1.2879478184253723,
          1.2879478184253723,
          1.068244366301247
         ],
         "xaxis": "x",
         "y": [
          -660,
          -660,
          -696.25,
          -696.25
         ],
         "yaxis": "y"
        },
        {
         "hoverinfo": "text",
         "marker": {
          "color": "rgb(0,116,217)"
         },
         "mode": "lines",
         "text": [
          "province_city_cathedral_spain_italy",
          "",
          "",
          "zante_malta_corfu_cephalonia_island"
         ],
         "type": "scatter",
         "x": [
          0,
          1.1328689602990392,
          1.1328689602990392,
          0
         ],
         "xaxis": "x",
         "y": [
          -735,
          -735,
          -745,
          -745
         ],
         "yaxis": "y"
        },
        {
         "hoverinfo": "text",
         "marker": {
          "color": "rgb(0,116,217)"
         },
         "mode": "lines",
         "text": [
          "teneriffe_azores_canary_islands_canaries",
          "",
          "",
          "province_city_cathedral_spain_italy"
         ],
         "type": "scatter",
         "x": [
          0,
          1.2041585534837045,
          1.2041585534837045,
          1.1328689602990392
         ],
         "xaxis": "x",
         "y": [
          -725,
          -725,
          -740,
          -740
         ],
         "yaxis": "y"
        },
        {
         "hoverinfo": "text",
         "marker": {
          "color": "rgb(0,116,217)"
         },
         "mode": "lines",
         "text": [
          "islands_island_java_sumatra_malay",
          "",
          "",
          "island_jamaica_barbados_mauritius_colony"
         ],
         "type": "scatter",
         "x": [
          0,
          1.0758304406434573,
          1.0758304406434573,
          0
         ],
         "xaxis": "x",
         "y": [
          -755,
          -755,
          -765,
          -765
         ],
         "yaxis": "y"
        },
        {
         "hoverinfo": "text",
         "marker": {
          "color": "rgb(0,116,217)"
         },
         "mode": "lines",
         "text": [
          "congo_niger_africa_senegal_natal",
          "",
          "",
          "islands_island_java_sumatra_malay"
         ],
         "type": "scatter",
         "x": [
          1.2041585534837045,
          1.2532132295819838,
          1.2532132295819838,
          1.0758304406434573
         ],
         "xaxis": "x",
         "y": [
          -732.5,
          -732.5,
          -760,
          -760
         ],
         "yaxis": "y"
        },
        {
         "hoverinfo": "text",
         "marker": {
          "color": "rgb(0,116,217)"
         },
         "mode": "lines",
         "text": [
          "buenos_ayres_peru_andes_chili",
          "",
          "",
          "cervantes_columbus_madrid_spanish_lope"
         ],
         "type": "scatter",
         "x": [
          1.2879478184253723,
          1.555451617808777,
          1.555451617808777,
          1.2532132295819838
         ],
         "xaxis": "x",
         "y": [
          -678.125,
          -678.125,
          -746.25,
          -746.25
         ],
         "yaxis": "y"
        },
        {
         "hoverinfo": "text",
         "marker": {
          "color": "rgb(0,116,217)"
         },
         "mode": "lines",
         "text": [
          "islands_island_coast_colony_lat",
          "",
          "",
          "buenos_peru_ayres_bolivar_andes"
         ],
         "type": "scatter",
         "x": [
          1.567447991408575,
          2.258877504496481,
          2.258877504496481,
          1.555451617808777
         ],
         "xaxis": "x",
         "y": [
          -620,
          -620,
          -712.1875,
          -712.1875
         ],
         "yaxis": "y"
        },
        {
         "hoverinfo": "text",
         "marker": {
          "color": "rgb(255,220,0)"
         },
         "mode": "lines",
         "text": [
          "islands_island_buenos_peru_ayres",
          "",
          "",
          "greenland_strait_ice_polar_arctic"
         ],
         "type": "scatter",
         "x": [
          0,
          0.7900700393343455,
          0.7900700393343455,
          0
         ],
         "xaxis": "x",
         "y": [
          -795,
          -795,
          -805,
          -805
         ],
         "yaxis": "y"
        },
        {
         "hoverinfo": "text",
         "marker": {
          "color": "rgb(255,220,0)"
         },
         "mode": "lines",
         "text": [
          "rio_para_pernambuco_brazil_comarca",
          "",
          "",
          "islands_island_coast_peru_buenos"
         ],
         "type": "scatter",
         "x": [
          0,
          0.9628555405899728,
          0.9628555405899728,
          0.7900700393343455
         ],
         "xaxis": "x",
         "y": [
          -785,
          -785,
          -800,
          -800
         ],
         "yaxis": "y"
        },
        {
         "hoverinfo": "text",
         "marker": {
          "color": "rgb(0,116,217)"
         },
         "mode": "lines",
         "text": [
          "china_chinese_foo_confucius_siam",
          "",
          "",
          "japanese_japan_yedo_kioto_tki"
         ],
         "type": "scatter",
         "x": [
          0,
          1.012322158213274,
          1.012322158213274,
          0.9628555405899728
         ],
         "xaxis": "x",
         "y": [
          -775,
          -775,
          -792.5,
          -792.5
         ],
         "yaxis": "y"
        },
        {
         "hoverinfo": "text",
         "marker": {
          "color": "rgb(0,116,217)"
         },
         "mode": "lines",
         "text": [
          "islands_island_coast_rio_buenos",
          "",
          "",
          "japanese_china_chinese_foo_japan"
         ],
         "type": "scatter",
         "x": [
          0,
          1.048461475907599,
          1.048461475907599,
          0
         ],
         "xaxis": "x",
         "y": [
          -825,
          -825,
          -835,
          -835
         ],
         "yaxis": "y"
        },
        {
         "hoverinfo": "text",
         "marker": {
          "color": "rgb(0,116,217)"
         },
         "mode": "lines",
         "text": [
          "province_city_cathedral_spain_inhabitants",
          "",
          "",
          "islands_island_coast_rio_buenos"
         ],
         "type": "scatter",
         "x": [
          0,
          1.1531915929164458,
          1.1531915929164458,
          1.048461475907599
         ],
         "xaxis": "x",
         "y": [
          -815,
          -815,
          -830,
          -830
         ],
         "yaxis": "y"
        },
        {
         "hoverinfo": "text",
         "marker": {
          "color": "rgb(0,116,217)"
         },
         "mode": "lines",
         "text": [
          "mahratta_mahrattas_madras_rajah_hindustan",
          "",
          "",
          "district_hindus_bengal_ganges_rice"
         ],
         "type": "scatter",
         "x": [
          0,
          1.0036345069232033,
          1.0036345069232033,
          0
         ],
         "xaxis": "x",
         "y": [
          -845,
          -845,
          -855,
          -855
         ],
         "yaxis": "y"
        },
        {
         "hoverinfo": "text",
         "marker": {
          "color": "rgb(0,116,217)"
         },
         "mode": "lines",
         "text": [
          "district_hindus_bengal_ganges_rice",
          "",
          "",
          "burmese_pegu_burmah_irawadi_rangoon"
         ],
         "type": "scatter",
         "x": [
          1.1531915929164458,
          1.3412879692396997,
          1.3412879692396997,
          1.0036345069232033
         ],
         "xaxis": "x",
         "y": [
          -822.5,
          -822.5,
          -850,
          -850
         ],
         "yaxis": "y"
        },
        {
         "hoverinfo": "text",
         "marker": {
          "color": "rgb(0,116,217)"
         },
         "mode": "lines",
         "text": [
          "district_hindus_bengal_rice_ganges",
          "",
          "",
          "ceylon_colombo_sinhalese_galle_kandy"
         ],
         "type": "scatter",
         "x": [
          1.012322158213274,
          1.657365585677853,
          1.657365585677853,
          1.3412879692396997
         ],
         "xaxis": "x",
         "y": [
          -783.75,
          -783.75,
          -836.25,
          -836.25
         ],
         "yaxis": "y"
        },
        {
         "hoverinfo": "text",
         "marker": {
          "color": "rgb(0,116,217)"
         },
         "mode": "lines",
         "text": [
          "district_hindus_bengal_rice_ganges",
          "",
          "",
          "berbice_guiana_cayenne_canje_surinam"
         ],
         "type": "scatter",
         "x": [
          2.258877504496481,
          2.7441605162941016,
          2.7441605162941016,
          1.657365585677853
         ],
         "xaxis": "x",
         "y": [
          -666.09375,
          -666.09375,
          -810,
          -810
         ],
         "yaxis": "y"
        },
        {
         "hoverinfo": "text",
         "marker": {
          "color": "rgb(40,35,35)"
         },
         "mode": "lines",
         "text": [
          "islands_island_coast_province_rio",
          "",
          "",
          "district_hindus_bengal_rice_ganges"
         ],
         "type": "scatter",
         "x": [
          0,
          0.863455198378774,
          0.863455198378774,
          0
         ],
         "xaxis": "x",
         "y": [
          -865,
          -865,
          -875,
          -875
         ],
         "yaxis": "y"
        },
        {
         "hoverinfo": "text",
         "marker": {
          "color": "rgb(61,153,112)"
         },
         "mode": "lines",
         "text": [
          "mecca_arabia_yemen_morocco_arabs",
          "",
          "",
          "islands_island_district_province_miles"
         ],
         "type": "scatter",
         "x": [
          0,
          0.8023970606487959,
          0.8023970606487959,
          0
         ],
         "xaxis": "x",
         "y": [
          -885,
          -885,
          -895,
          -895
         ],
         "yaxis": "y"
        },
        {
         "hoverinfo": "text",
         "marker": {
          "color": "rgb(0,116,217)"
         },
         "mode": "lines",
         "text": [
          "department_arrondissement_communes_cantons_loire",
          "",
          "",
          "islands_island_district_province_miles"
         ],
         "type": "scatter",
         "x": [
          0.8023970606487959,
          1.0660987580772776,
          1.0660987580772776,
          0
         ],
         "xaxis": "x",
         "y": [
          -890,
          -890,
          -905,
          -905
         ],
         "yaxis": "y"
        },
        {
         "hoverinfo": "text",
         "marker": {
          "color": "rgb(0,116,217)"
         },
         "mode": "lines",
         "text": [
          "melody_music_chord_harmony_sounds",
          "",
          "",
          "trumpet_strings_instrument_flute_bass"
         ],
         "type": "scatter",
         "x": [
          0.863455198378774,
          1.1671672573623877,
          1.1671672573623877,
          1.0660987580772776
         ],
         "xaxis": "x",
         "y": [
          -870,
          -870,
          -897.5,
          -897.5
         ],
         "yaxis": "y"
        },
        {
         "hoverinfo": "text",
         "marker": {
          "color": "rgb(255,65,54)"
         },
         "mode": "lines",
         "text": [
          "printing_types_mainz_cable_type",
          "",
          "",
          "sound_symbol_alphabet_vowel_alphabets"
         ],
         "type": "scatter",
         "x": [
          0,
          0.8423514078631413,
          0.8423514078631413,
          0
         ],
         "xaxis": "x",
         "y": [
          -915,
          -915,
          -925,
          -925
         ],
         "yaxis": "y"
        },
        {
         "hoverinfo": "text",
         "marker": {
          "color": "rgb(35,205,205)"
         },
         "mode": "lines",
         "text": [
          "bass_trumpet_octave_instrument_strings",
          "",
          "",
          "alphabet_vowel_sound_symbol_printing"
         ],
         "type": "scatter",
         "x": [
          0,
          0.9235891122914294,
          0.9235891122914294,
          0
         ],
         "xaxis": "x",
         "y": [
          -935,
          -935,
          -945,
          -945
         ],
         "yaxis": "y"
        },
        {
         "hoverinfo": "text",
         "marker": {
          "color": "rgb(0,116,217)"
         },
         "mode": "lines",
         "text": [
          "cos_sin_tan_angle_triangle",
          "",
          "",
          "equation_equations_cos_roots_fraction"
         ],
         "type": "scatter",
         "x": [
          0.8423514078631413,
          1.0408385501031403,
          1.0408385501031403,
          0.9235891122914294
         ],
         "xaxis": "x",
         "y": [
          -920,
          -920,
          -940,
          -940
         ],
         "yaxis": "y"
        },
        {
         "hoverinfo": "text",
         "marker": {
          "color": "rgb(0,116,217)"
         },
         "mode": "lines",
         "text": [
          "ptolemy_almagest_apollonius_marinus_hipparchus",
          "",
          "",
          "calendar_epact_epacts_cycle_dominical"
         ],
         "type": "scatter",
         "x": [
          1.1671672573623877,
          1.4409445390644215,
          1.4409445390644215,
          1.0408385501031403
         ],
         "xaxis": "x",
         "y": [
          -883.75,
          -883.75,
          -930,
          -930
         ],
         "yaxis": "y"
        },
        {
         "hoverinfo": "text",
         "marker": {
          "color": "rgb(61,153,112)"
         },
         "mode": "lines",
         "text": [
          "equation_cos_sin_equations_dx",
          "",
          "",
          "calendar_epact_epacts_cycle_dominical"
         ],
         "type": "scatter",
         "x": [
          0,
          0.9060075005708956,
          0.9060075005708956,
          0
         ],
         "xaxis": "x",
         "y": [
          -975,
          -975,
          -985,
          -985
         ],
         "yaxis": "y"
        },
        {
         "hoverinfo": "text",
         "marker": {
          "color": "rgb(61,153,112)"
         },
         "mode": "lines",
         "text": [
          "sounds_sound_bass_alphabet_instrument",
          "",
          "",
          "equation_cos_sin_equations_fraction"
         ],
         "type": "scatter",
         "x": [
          0.9060075005708956,
          0.9405214592624607,
          0.9405214592624607,
          0
         ],
         "xaxis": "x",
         "y": [
          -980,
          -980,
          -995,
          -995
         ],
         "yaxis": "y"
        },
        {
         "hoverinfo": "text",
         "marker": {
          "color": "rgb(61,153,112)"
         },
         "mode": "lines",
         "text": [
          "ship_ships_sheer_midship_timbers",
          "",
          "",
          "ship_anchor_rope_sails_sail"
         ],
         "type": "scatter",
         "x": [
          0,
          0.9899939732186174,
          0.9899939732186174,
          0.9405214592624607
         ],
         "xaxis": "x",
         "y": [
          -965,
          -965,
          -987.5,
          -987.5
         ],
         "yaxis": "y"
        },
        {
         "hoverinfo": "text",
         "marker": {
          "color": "rgb(0,116,217)"
         },
         "mode": "lines",
         "text": [
          "velocity_piston_wheel_fluid_valve",
          "",
          "",
          "motion_velocity_forces_velocities_molecules"
         ],
         "type": "scatter",
         "x": [
          0.9899939732186174,
          1.048217867376096,
          1.048217867376096,
          0
         ],
         "xaxis": "x",
         "y": [
          -976.25,
          -976.25,
          -1005,
          -1005
         ],
         "yaxis": "y"
        },
        {
         "hoverinfo": "text",
         "marker": {
          "color": "rgb(0,116,217)"
         },
         "mode": "lines",
         "text": [
          "load_water_depth_velocity_girder",
          "",
          "",
          "velocity_motion_piston_wheel_pressure"
         ],
         "type": "scatter",
         "x": [
          0,
          1.0995651802568691,
          1.0995651802568691,
          1.048217867376096
         ],
         "xaxis": "x",
         "y": [
          -955,
          -955,
          -990.625,
          -990.625
         ],
         "yaxis": "y"
        },
        {
         "hoverinfo": "text",
         "marker": {
          "color": "rgb(0,116,217)"
         },
         "mode": "lines",
         "text": [
          "velocity_motion_wheel_water_piston",
          "",
          "",
          "pendulum_pallet_clock_wheel_clocks"
         ],
         "type": "scatter",
         "x": [
          0,
          1.0430668409589283,
          1.0430668409589283,
          0
         ],
         "xaxis": "x",
         "y": [
          -1015,
          -1015,
          -1025,
          -1025
         ],
         "yaxis": "y"
        },
        {
         "hoverinfo": "text",
         "marker": {
          "color": "rgb(0,116,217)"
         },
         "mode": "lines",
         "text": [
          "ship_sails_wind_ships_sail",
          "",
          "",
          "velocity_wheel_motion_friction_water"
         ],
         "type": "scatter",
         "x": [
          1.0430668409589283,
          1.1326590739997249,
          1.1326590739997249,
          0
         ],
         "xaxis": "x",
         "y": [
          -1020,
          -1020,
          -1035,
          -1035
         ],
         "yaxis": "y"
        },
        {
         "hoverinfo": "text",
         "marker": {
          "color": "rgb(0,116,217)"
         },
         "mode": "lines",
         "text": [
          "gun_guns_artillery_bullet_powder",
          "",
          "",
          "parapet_ditch_fortification_bastion_vitrified"
         ],
         "type": "scatter",
         "x": [
          0,
          1.0041549243575418,
          1.0041549243575418,
          0
         ],
         "xaxis": "x",
         "y": [
          -1045,
          -1045,
          -1055,
          -1055
         ],
         "yaxis": "y"
        },
        {
         "hoverinfo": "text",
         "marker": {
          "color": "rgb(0,116,217)"
         },
         "mode": "lines",
         "text": [
          "velocity_wheel_motion_ship_water",
          "",
          "",
          "gun_guns_artillery_bullet_powder"
         ],
         "type": "scatter",
         "x": [
          1.0041549243575418,
          1.0907707564898617,
          1.0907707564898617,
          0
         ],
         "xaxis": "x",
         "y": [
          -1050,
          -1050,
          -1065,
          -1065
         ],
         "yaxis": "y"
        },
        {
         "hoverinfo": "text",
         "marker": {
          "color": "rgb(0,116,217)"
         },
         "mode": "lines",
         "text": [
          "brit_avoird_lbs_balance_weights",
          "",
          "",
          "velocity_motion_wheel_ship_water"
         ],
         "type": "scatter",
         "x": [
          1.1326590739997249,
          1.3732437130894843,
          1.3732437130894843,
          1.0907707564898617
         ],
         "xaxis": "x",
         "y": [
          -1027.5,
          -1027.5,
          -1057.5,
          -1057.5
         ],
         "yaxis": "y"
        },
        {
         "hoverinfo": "text",
         "marker": {
          "color": "rgb(0,116,217)"
         },
         "mode": "lines",
         "text": [
          "sun_planet_stars_ecliptic_parallax",
          "",
          "",
          "winds_diurnal_atmosphere_temperature_pressure"
         ],
         "type": "scatter",
         "x": [
          1.0995651802568691,
          1.7639871018352058,
          1.7639871018352058,
          1.3732437130894843
         ],
         "xaxis": "x",
         "y": [
          -972.8125,
          -972.8125,
          -1042.5,
          -1042.5
         ],
         "yaxis": "y"
        },
        {
         "hoverinfo": "text",
         "marker": {
          "color": "rgb(255,65,54)"
         },
         "mode": "lines",
         "text": [
          "rays_spectrum_light_focal_lens",
          "",
          "",
          "sun_winds_atmosphere_solar_temperature"
         ],
         "type": "scatter",
         "x": [
          0,
          0.9127339112376306,
          0.9127339112376306,
          0
         ],
         "xaxis": "x",
         "y": [
          -1075,
          -1075,
          -1085,
          -1085
         ],
         "yaxis": "y"
        },
        {
         "hoverinfo": "text",
         "marker": {
          "color": "rgb(255,65,54)"
         },
         "mode": "lines",
         "text": [
          "electricity_electrical_conductor_wire_electric",
          "",
          "",
          "thermometers_mercury_hydrometer_thermometer_instrument"
         ],
         "type": "scatter",
         "x": [
          0.9127339112376306,
          0.9701896913038571,
          0.9701896913038571,
          0
         ],
         "xaxis": "x",
         "y": [
          -1080,
          -1080,
          -1095,
          -1095
         ],
         "yaxis": "y"
        },
        {
         "hoverinfo": "text",
         "marker": {
          "color": "rgb(35,205,205)"
         },
         "mode": "lines",
         "text": [
          "vapour_heat_stove_temperature_air",
          "",
          "",
          "electricity_electrical_conductor_wire_electric"
         ],
         "type": "scatter",
         "x": [
          0,
          0.9044992385664807,
          0.9044992385664807,
          0
         ],
         "xaxis": "x",
         "y": [
          -1105,
          -1105,
          -1115,
          -1115
         ],
         "yaxis": "y"
        },
        {
         "hoverinfo": "text",
         "marker": {
          "color": "rgb(0,116,217)"
         },
         "mode": "lines",
         "text": [
          "electricity_electrical_conductor_wire_electric",
          "",
          "",
          "liquid_thermometric_surfacetension_thermometer_temperature"
         ],
         "type": "scatter",
         "x": [
          0.9701896913038571,
          1.1169012054613021,
          1.1169012054613021,
          0.9044992385664807
         ],
         "xaxis": "x",
         "y": [
          -1087.5,
          -1087.5,
          -1110,
          -1110
         ],
         "yaxis": "y"
        },
        {
         "hoverinfo": "text",
         "marker": {
          "color": "rgb(133,20,75)"
         },
         "mode": "lines",
         "text": [
          "rays_sun_spectrum_light_winds",
          "",
          "",
          "electricity_electrical_conductor_wire_electric"
         ],
         "type": "scatter",
         "x": [
          0,
          0.773053487465096,
          0.773053487465096,
          0
         ],
         "xaxis": "x",
         "y": [
          -1135,
          -1135,
          -1145,
          -1145
         ],
         "yaxis": "y"
        },
        {
         "hoverinfo": "text",
         "marker": {
          "color": "rgb(0,116,217)"
         },
         "mode": "lines",
         "text": [
          "velocity_motion_wheel_ship_water",
          "",
          "",
          "electricity_temperature_electrical_heat_air"
         ],
         "type": "scatter",
         "x": [
          0,
          1.0111238434190055,
          1.0111238434190055,
          0.773053487465096
         ],
         "xaxis": "x",
         "y": [
          -1125,
          -1125,
          -1140,
          -1140
         ],
         "yaxis": "y"
        },
        {
         "hoverinfo": "text",
         "marker": {
          "color": "rgb(0,116,217)"
         },
         "mode": "lines",
         "text": [
          "blind_cornea_eye_hypermetropia_myopia",
          "",
          "",
          "baths_bathing_bath_cold_calidarium"
         ],
         "type": "scatter",
         "x": [
          1.0111238434190055,
          1.0528970091701626,
          1.0528970091701626,
          0
         ],
         "xaxis": "x",
         "y": [
          -1132.5,
          -1132.5,
          -1155,
          -1155
         ],
         "yaxis": "y"
        },
        {
         "hoverinfo": "text",
         "marker": {
          "color": "rgb(0,116,217)"
         },
         "mode": "lines",
         "text": [
          "warp_wool_yarn_silk_loom",
          "",
          "",
          "crop_crops_farm_sown_turnips"
         ],
         "type": "scatter",
         "x": [
          1.1169012054613021,
          1.7813497074802653,
          1.7813497074802653,
          1.0528970091701626
         ],
         "xaxis": "x",
         "y": [
          -1098.75,
          -1098.75,
          -1143.75,
          -1143.75
         ],
         "yaxis": "y"
        },
        {
         "hoverinfo": "text",
         "marker": {
          "color": "rgb(0,116,217)"
         },
         "mode": "lines",
         "text": [
          "wool_warp_crop_yarn_silk",
          "",
          "",
          "malt_wines_fermentation_wort_yeast"
         ],
         "type": "scatter",
         "x": [
          1.7639871018352058,
          2.245221991593901,
          2.245221991593901,
          1.7813497074802653
         ],
         "xaxis": "x",
         "y": [
          -1007.65625,
          -1007.65625,
          -1121.25,
          -1121.25
         ],
         "yaxis": "y"
        },
        {
         "hoverinfo": "text",
         "marker": {
          "color": "rgb(0,116,217)"
         },
         "mode": "lines",
         "text": [
          "hive_bees_hives_bee_huber",
          "",
          "",
          "malt_wool_warp_fermentation_wines"
         ],
         "type": "scatter",
         "x": [
          1.4409445390644215,
          2.4319652892254595,
          2.4319652892254595,
          2.245221991593901
         ],
         "xaxis": "x",
         "y": [
          -906.875,
          -906.875,
          -1064.453125,
          -1064.453125
         ],
         "yaxis": "y"
        },
        {
         "hoverinfo": "text",
         "marker": {
          "color": "rgb(0,116,217)"
         },
         "mode": "lines",
         "text": [
          "hive_bees_malt_wool_warp",
          "",
          "",
          "arkwright_watt_inventions_boulton_patent"
         ],
         "type": "scatter",
         "x": [
          2.7441605162941016,
          3.5381188791355447,
          3.5381188791355447,
          2.4319652892254595
         ],
         "xaxis": "x",
         "y": [
          -738.046875,
          -738.046875,
          -985.6640625,
          -985.6640625
         ],
         "yaxis": "y"
        },
        {
         "hoverinfo": "text",
         "marker": {
          "color": "rgb(0,116,217)"
         },
         "mode": "lines",
         "text": [
          "baths_blind_bathing_bath_cornea",
          "",
          "",
          "hive_bees_malt_wool_warp"
         ],
         "type": "scatter",
         "x": [
          2.9479968535853076,
          5.379300295395753,
          5.379300295395753,
          3.5381188791355447
         ],
         "xaxis": "x",
         "y": [
          -422.03125,
          -422.03125,
          -861.85546875,
          -861.85546875
         ],
         "yaxis": "y"
        },
        {
         "hoverinfo": "text",
         "marker": {
          "color": "rgb(255,220,0)"
         },
         "mode": "lines",
         "text": [
          "player_cards_game_card_ball",
          "",
          "",
          "exercises_gymnastics_gymnastic_boxing_wrestling"
         ],
         "type": "scatter",
         "x": [
          0,
          0.7764467080641414,
          0.7764467080641414,
          0
         ],
         "xaxis": "x",
         "y": [
          -1165,
          -1165,
          -1175,
          -1175
         ],
         "yaxis": "y"
        },
        {
         "hoverinfo": "text",
         "marker": {
          "color": "rgb(40,35,35)"
         },
         "mode": "lines",
         "text": [
          "hive_bees_malt_wool_warp",
          "",
          "",
          "player_cards_game_card_ball"
         ],
         "type": "scatter",
         "x": [
          0,
          0.7981639361692429,
          0.7981639361692429,
          0
         ],
         "xaxis": "x",
         "y": [
          -1185,
          -1185,
          -1195,
          -1195
         ],
         "yaxis": "y"
        },
        {
         "hoverinfo": "text",
         "marker": {
          "color": "rgb(40,35,35)"
         },
         "mode": "lines",
         "text": [
          "velocity_motion_electricity_pressure_wheel",
          "",
          "",
          "cards_player_game_hive_bees"
         ],
         "type": "scatter",
         "x": [
          0,
          0.7560392195583131,
          0.7560392195583131,
          0
         ],
         "xaxis": "x",
         "y": [
          -1205,
          -1205,
          -1215,
          -1215
         ],
         "yaxis": "y"
        },
        {
         "hoverinfo": "text",
         "marker": {
          "color": "rgb(40,35,35)"
         },
         "mode": "lines",
         "text": [
          "equation_cos_sin_equations_fraction",
          "",
          "",
          "velocity_motion_electricity_pressure_wheel"
         ],
         "type": "scatter",
         "x": [
          0.7981639361692429,
          0.8834820275700543,
          0.8834820275700543,
          0.7560392195583131
         ],
         "xaxis": "x",
         "y": [
          -1190,
          -1190,
          -1210,
          -1210
         ],
         "yaxis": "y"
        },
        {
         "hoverinfo": "text",
         "marker": {
          "color": "rgb(61,153,112)"
         },
         "mode": "lines",
         "text": [
          "moulds_mould_hones_melted_emery",
          "",
          "",
          "alloy_bronze_brass_tin_alloys"
         ],
         "type": "scatter",
         "x": [
          0,
          0.7598162481450077,
          0.7598162481450077,
          0
         ],
         "xaxis": "x",
         "y": [
          -1225,
          -1225,
          -1235,
          -1235
         ],
         "yaxis": "y"
        },
        {
         "hoverinfo": "text",
         "marker": {
          "color": "rgb(61,153,112)"
         },
         "mode": "lines",
         "text": [
          "alum_alumslate_sulphate_salt_potash",
          "",
          "",
          "platinum_metals_cobalt_metal_oxide"
         ],
         "type": "scatter",
         "x": [
          0.7598162481450077,
          0.7995428779872316,
          0.7995428779872316,
          0
         ],
         "xaxis": "x",
         "y": [
          -1230,
          -1230,
          -1245,
          -1245
         ],
         "yaxis": "y"
        },
        {
         "hoverinfo": "text",
         "marker": {
          "color": "rgb(61,153,112)"
         },
         "mode": "lines",
         "text": [
          "diamond_carats_diamonds_ruby_jade",
          "",
          "",
          "coal_coals_seams_strata_pit"
         ],
         "type": "scatter",
         "x": [
          0.7995428779872316,
          0.9686267755981761,
          0.9686267755981761,
          0
         ],
         "xaxis": "x",
         "y": [
          -1237.5,
          -1237.5,
          -1255,
          -1255
         ],
         "yaxis": "y"
        },
        {
         "hoverinfo": "text",
         "marker": {
          "color": "rgb(0,116,217)"
         },
         "mode": "lines",
         "text": [
          "alum_platinum_metals_cobalt_sulphate",
          "",
          "",
          "coal_coals_strata_seams_diamond"
         ],
         "type": "scatter",
         "x": [
          0.8834820275700543,
          1.1648924766840065,
          1.1648924766840065,
          0.9686267755981761
         ],
         "xaxis": "x",
         "y": [
          -1200,
          -1200,
          -1246.25,
          -1246.25
         ],
         "yaxis": "y"
        },
        {
         "hoverinfo": "text",
         "marker": {
          "color": "rgb(0,116,217)"
         },
         "mode": "lines",
         "text": [
          "alloy_brass_bronze_mould_moulds",
          "",
          "",
          "coal_alum_coals_strata_seams"
         ],
         "type": "scatter",
         "x": [
          0.7764467080641414,
          1.5469292153867997,
          1.5469292153867997,
          1.1648924766840065
         ],
         "xaxis": "x",
         "y": [
          -1170,
          -1170,
          -1223.125,
          -1223.125
         ],
         "yaxis": "y"
        },
        {
         "hoverinfo": "text",
         "marker": {
          "color": "rgb(255,65,54)"
         },
         "mode": "lines",
         "text": [
          "oils_oil_fats_stearin_olein",
          "",
          "",
          "rubber_caoutchouc_gum_juice_benzoin"
         ],
         "type": "scatter",
         "x": [
          0,
          0.8620486404128922,
          0.8620486404128922,
          0
         ],
         "xaxis": "x",
         "y": [
          -1275,
          -1275,
          -1285,
          -1285
         ],
         "yaxis": "y"
        },
        {
         "hoverinfo": "text",
         "marker": {
          "color": "rgb(35,205,205)"
         },
         "mode": "lines",
         "text": [
          "leather_skins_tanning_hides_tanned",
          "",
          "",
          "rubber_oils_oil_caoutchouc_gum"
         ],
         "type": "scatter",
         "x": [
          0,
          0.9471413749482224,
          0.9471413749482224,
          0
         ],
         "xaxis": "x",
         "y": [
          -1295,
          -1295,
          -1305,
          -1305
         ],
         "yaxis": "y"
        },
        {
         "hoverinfo": "text",
         "marker": {
          "color": "rgb(0,116,217)"
         },
         "mode": "lines",
         "text": [
          "flowers_plant_flower_stamens_leaves",
          "",
          "",
          "rhubarb_lemon_rind_citrus_fruit"
         ],
         "type": "scatter",
         "x": [
          0.8620486404128922,
          1.0250748688147613,
          1.0250748688147613,
          0.9471413749482224
         ],
         "xaxis": "x",
         "y": [
          -1280,
          -1280,
          -1300,
          -1300
         ],
         "yaxis": "y"
        },
        {
         "hoverinfo": "text",
         "marker": {
          "color": "rgb(0,116,217)"
         },
         "mode": "lines",
         "text": [
          "wheats_herbarium_wheat_plant_footstalk",
          "",
          "",
          "rhubarb_flowers_plant_fruit_leaves"
         ],
         "type": "scatter",
         "x": [
          0,
          1.0791021398385583,
          1.0791021398385583,
          1.0250748688147613
         ],
         "xaxis": "x",
         "y": [
          -1265,
          -1265,
          -1290,
          -1290
         ],
         "yaxis": "y"
        },
        {
         "hoverinfo": "text",
         "marker": {
          "color": "rgb(61,153,112)"
         },
         "mode": "lines",
         "text": [
          "flowers_rhubarb_plant_leaves_fruit",
          "",
          "",
          "sandalwood_wood_ebony_ironwood_haematoxylin"
         ],
         "type": "scatter",
         "x": [
          0,
          0.8118730300202149,
          0.8118730300202149,
          0
         ],
         "xaxis": "x",
         "y": [
          -1315,
          -1315,
          -1325,
          -1325
         ],
         "yaxis": "y"
        },
        {
         "hoverinfo": "text",
         "marker": {
          "color": "rgb(0,116,217)"
         },
         "mode": "lines",
         "text": [
          "rubber_oils_oil_leather_skins",
          "",
          "",
          "flowers_rhubarb_plant_leaves_fruit"
         ],
         "type": "scatter",
         "x": [
          1.0791021398385583,
          1.2256062125299552,
          1.2256062125299552,
          0.8118730300202149
         ],
         "xaxis": "x",
         "y": [
          -1277.5,
          -1277.5,
          -1320,
          -1320
         ],
         "yaxis": "y"
        },
        {
         "hoverinfo": "text",
         "marker": {
          "color": "rgb(255,65,54)"
         },
         "mode": "lines",
         "text": [
          "coal_alum_coals_strata_seams",
          "",
          "",
          "oil_flowers_oils_rubber_plant"
         ],
         "type": "scatter",
         "x": [
          0,
          0.8515461142322663,
          0.8515461142322663,
          0
         ],
         "xaxis": "x",
         "y": [
          -1345,
          -1345,
          -1355,
          -1355
         ],
         "yaxis": "y"
        },
        {
         "hoverinfo": "text",
         "marker": {
          "color": "rgb(255,65,54)"
         },
         "mode": "lines",
         "text": [
          "fishes_fins_fin_fish_dorsal",
          "",
          "",
          "molars_teeth_tail_species_incisors"
         ],
         "type": "scatter",
         "x": [
          0,
          0.9166425525044866,
          0.9166425525044866,
          0.8515461142322663
         ],
         "xaxis": "x",
         "y": [
          -1335,
          -1335,
          -1350,
          -1350
         ],
         "yaxis": "y"
        },
        {
         "hoverinfo": "text",
         "marker": {
          "color": "rgb(0,116,217)"
         },
         "mode": "lines",
         "text": [
          "fishes_teeth_species_fin_fins",
          "",
          "",
          "antennae_insects_genus_thorax_abdomen"
         ],
         "type": "scatter",
         "x": [
          0.9166425525044866,
          1.0458821023793168,
          1.0458821023793168,
          0
         ],
         "xaxis": "x",
         "y": [
          -1342.5,
          -1342.5,
          -1365,
          -1365
         ],
         "yaxis": "y"
        },
        {
         "hoverinfo": "text",
         "marker": {
          "color": "rgb(0,116,217)"
         },
         "mode": "lines",
         "text": [
          "disease_symptoms_diseases_fever_morbid",
          "",
          "",
          "genus_species_dorsal_insects_fishes"
         ],
         "type": "scatter",
         "x": [
          0,
          1.0081564366627607,
          1.0081564366627607,
          0
         ],
         "xaxis": "x",
         "y": [
          -1375,
          -1375,
          -1385,
          -1385
         ],
         "yaxis": "y"
        },
        {
         "hoverinfo": "text",
         "marker": {
          "color": "rgb(0,116,217)"
         },
         "mode": "lines",
         "text": [
          "genus_species_disease_teeth_dorsal",
          "",
          "",
          "serpents_snakes_snake_reptiles_scales"
         ],
         "type": "scatter",
         "x": [
          1.0458821023793168,
          1.2501367471347342,
          1.2501367471347342,
          1.0081564366627607
         ],
         "xaxis": "x",
         "y": [
          -1353.75,
          -1353.75,
          -1380,
          -1380
         ],
         "yaxis": "y"
        },
        {
         "hoverinfo": "text",
         "marker": {
          "color": "rgb(0,116,217)"
         },
         "mode": "lines",
         "text": [
          "evolution_sexual_ovum_spores_protoplasm",
          "",
          "",
          "genus_species_teeth_disease_dorsal"
         ],
         "type": "scatter",
         "x": [
          1.2256062125299552,
          1.4459509075923778,
          1.4459509075923778,
          1.2501367471347342
         ],
         "xaxis": "x",
         "y": [
          -1298.75,
          -1298.75,
          -1366.875,
          -1366.875
         ],
         "yaxis": "y"
        },
        {
         "hoverinfo": "text",
         "marker": {
          "color": "rgb(0,116,217)"
         },
         "mode": "lines",
         "text": [
          "birds_bird_plumage_species_subregion",
          "",
          "",
          "birds_breeds_fowls_plumage_birdcatchers"
         ],
         "type": "scatter",
         "x": [
          1.5469292153867997,
          2.603893805760883,
          2.603893805760883,
          1.4459509075923778
         ],
         "xaxis": "x",
         "y": [
          -1196.5625,
          -1196.5625,
          -1332.8125,
          -1332.8125
         ],
         "yaxis": "y"
        },
        {
         "hoverinfo": "text",
         "marker": {
          "color": "rgb(35,205,205)"
         },
         "mode": "lines",
         "text": [
          "genus_species_teeth_genera_disease",
          "",
          "",
          "birds_bird_plumage_species_subregion"
         ],
         "type": "scatter",
         "x": [
          0,
          0.7643607143216212,
          0.7643607143216212,
          0
         ],
         "xaxis": "x",
         "y": [
          -1425,
          -1425,
          -1435,
          -1435
         ],
         "yaxis": "y"
        },
        {
         "hoverinfo": "text",
         "marker": {
          "color": "rgb(35,205,205)"
         },
         "mode": "lines",
         "text": [
          "coal_alum_oil_acid_flowers",
          "",
          "",
          "species_genus_genera_teeth_disease"
         ],
         "type": "scatter",
         "x": [
          0,
          0.8463145245357092,
          0.8463145245357092,
          0.7643607143216212
         ],
         "xaxis": "x",
         "y": [
          -1415,
          -1415,
          -1430,
          -1430
         ],
         "yaxis": "y"
        },
        {
         "hoverinfo": "text",
         "marker": {
          "color": "rgb(35,205,205)"
         },
         "mode": "lines",
         "text": [
          "velocity_equation_motion_cos_electricity",
          "",
          "",
          "species_genus_genera_teeth_disease"
         ],
         "type": "scatter",
         "x": [
          0,
          0.9956617544717353,
          0.9956617544717353,
          0.8463145245357092
         ],
         "xaxis": "x",
         "y": [
          -1405,
          -1405,
          -1422.5,
          -1422.5
         ],
         "yaxis": "y"
        },
        {
         "hoverinfo": "text",
         "marker": {
          "color": "rgb(0,116,217)"
         },
         "mode": "lines",
         "text": [
          "miles_province_district_lat_island",
          "",
          "",
          "species_velocity_genus_motion_equation"
         ],
         "type": "scatter",
         "x": [
          0.9956617544717353,
          1.0097071393898205,
          1.0097071393898205,
          0
         ],
         "xaxis": "x",
         "y": [
          -1413.75,
          -1413.75,
          -1445,
          -1445
         ],
         "yaxis": "y"
        },
        {
         "hoverinfo": "text",
         "marker": {
          "color": "rgb(0,116,217)"
         },
         "mode": "lines",
         "text": [
          "emperor_constantius_constantinople_magnentius_alexius",
          "",
          "",
          "antigonus_demetrius_eumenes_cassander_lysimachus"
         ],
         "type": "scatter",
         "x": [
          0,
          1.064928227064931,
          1.064928227064931,
          1.0097071393898205
         ],
         "xaxis": "x",
         "y": [
          -1395,
          -1395,
          -1429.375,
          -1429.375
         ],
         "yaxis": "y"
        },
        {
         "hoverinfo": "text",
         "marker": {
          "color": "rgb(0,116,217)"
         },
         "mode": "lines",
         "text": [
          "antigonus_emperor_demetrius_constantius_constantinople",
          "",
          "",
          "pelopidas_pisistratus_epaminondas_philopoemen_odenatus"
         ],
         "type": "scatter",
         "x": [
          0,
          1.1452533500509294,
          1.1452533500509294,
          0
         ],
         "xaxis": "x",
         "y": [
          -1455,
          -1455,
          -1465,
          -1465
         ],
         "yaxis": "y"
        },
        {
         "hoverinfo": "text",
         "marker": {
          "color": "rgb(0,116,217)"
         },
         "mode": "lines",
         "text": [
          "hannibal_hasdrubal_hamilcar_carthaginian_carthage",
          "",
          "",
          "antigonus_emperor_demetrius_constantius_constantinople"
         ],
         "type": "scatter",
         "x": [
          1.1452533500509294,
          1.2083695614172636,
          1.2083695614172636,
          0
         ],
         "xaxis": "x",
         "y": [
          -1460,
          -1460,
          -1475,
          -1475
         ],
         "yaxis": "y"
        },
        {
         "hoverinfo": "text",
         "marker": {
          "color": "rgb(0,116,217)"
         },
         "mode": "lines",
         "text": [
          "poland_boleslas_warsaw_vistula_polish",
          "",
          "",
          "gustavus_sweden_swedes_swedish_denmark"
         ],
         "type": "scatter",
         "x": [
          0,
          1.0964451416215482,
          1.0964451416215482,
          0
         ],
         "xaxis": "x",
         "y": [
          -1485,
          -1485,
          -1495,
          -1495
         ],
         "yaxis": "y"
        },
        {
         "hoverinfo": "text",
         "marker": {
          "color": "rgb(0,116,217)"
         },
         "mode": "lines",
         "text": [
          "poland_gustavus_boleslas_warsaw_vistula",
          "",
          "",
          "catherine_czar_empress_russian_peter"
         ],
         "type": "scatter",
         "x": [
          1.2083695614172636,
          1.4082814611435381,
          1.4082814611435381,
          1.0964451416215482
         ],
         "xaxis": "x",
         "y": [
          -1467.5,
          -1467.5,
          -1490,
          -1490
         ],
         "yaxis": "y"
        },
        {
         "hoverinfo": "text",
         "marker": {
          "color": "rgb(133,20,75)"
         },
         "mode": "lines",
         "text": [
          "thugut_hofer_radetzky_tilly_montecuculi",
          "",
          "",
          "poland_gustavus_warsaw_boleslas_polish"
         ],
         "type": "scatter",
         "x": [
          0,
          0.9415168401609253,
          0.9415168401609253,
          0
         ],
         "xaxis": "x",
         "y": [
          -1515,
          -1515,
          -1525,
          -1525
         ],
         "yaxis": "y"
        },
        {
         "hoverinfo": "text",
         "marker": {
          "color": "rgb(0,116,217)"
         },
         "mode": "lines",
         "text": [
          "her_she_elizabeth_mary_queen",
          "",
          "",
          "bruce_james_mar_earldom_earl"
         ],
         "type": "scatter",
         "x": [
          0,
          1.153274688626069,
          1.153274688626069,
          0.9415168401609253
         ],
         "xaxis": "x",
         "y": [
          -1505,
          -1505,
          -1520,
          -1520
         ],
         "yaxis": "y"
        },
        {
         "hoverinfo": "text",
         "marker": {
          "color": "rgb(0,116,217)"
         },
         "mode": "lines",
         "text": [
          "pope_pontificate_gregory_papal_pius",
          "",
          "",
          "cond_louis_charles_duke_orleans"
         ],
         "type": "scatter",
         "x": [
          0,
          1.1068227378300757,
          1.1068227378300757,
          0
         ],
         "xaxis": "x",
         "y": [
          -1535,
          -1535,
          -1545,
          -1545
         ],
         "yaxis": "y"
        },
        {
         "hoverinfo": "text",
         "marker": {
          "color": "rgb(0,116,217)"
         },
         "mode": "lines",
         "text": [
          "pope_louis_charles_pontificate_cond",
          "",
          "",
          "alphonso_castile_ferdinand_pedro_portugal"
         ],
         "type": "scatter",
         "x": [
          1.1068227378300757,
          1.141873690758138,
          1.141873690758138,
          0
         ],
         "xaxis": "x",
         "y": [
          -1540,
          -1540,
          -1555,
          -1555
         ],
         "yaxis": "y"
        },
        {
         "hoverinfo": "text",
         "marker": {
          "color": "rgb(0,116,217)"
         },
         "mode": "lines",
         "text": [
          "henry_warwick_richard_edward_normandy",
          "",
          "",
          "alphonso_pope_louis_charles_pontificate"
         ],
         "type": "scatter",
         "x": [
          0,
          1.0941364443120907,
          1.0941364443120907,
          0
         ],
         "xaxis": "x",
         "y": [
          -1565,
          -1565,
          -1575,
          -1575
         ],
         "yaxis": "y"
        },
        {
         "hoverinfo": "text",
         "marker": {
          "color": "rgb(0,116,217)"
         },
         "mode": "lines",
         "text": [
          "her_she_bruce_elizabeth_bothwell",
          "",
          "",
          "alphonso_pope_louis_henry_charles"
         ],
         "type": "scatter",
         "x": [
          1.141873690758138,
          1.2441396000896048,
          1.2441396000896048,
          1.0941364443120907
         ],
         "xaxis": "x",
         "y": [
          -1547.5,
          -1547.5,
          -1570,
          -1570
         ],
         "yaxis": "y"
        },
        {
         "hoverinfo": "text",
         "marker": {
          "color": "rgb(0,116,217)"
         },
         "mode": "lines",
         "text": [
          "alphonso_pope_henry_louis_charles",
          "",
          "",
          "witt_barneveldt_orange_stadtholder_william"
         ],
         "type": "scatter",
         "x": [
          1.153274688626069,
          1.4177388659700658,
          1.4177388659700658,
          1.2441396000896048
         ],
         "xaxis": "x",
         "y": [
          -1512.5,
          -1512.5,
          -1558.75,
          -1558.75
         ],
         "yaxis": "y"
        },
        {
         "hoverinfo": "text",
         "marker": {
          "color": "rgb(0,116,217)"
         },
         "mode": "lines",
         "text": [
          "harold_danes_alfred_ethelred_canute",
          "",
          "",
          "alphonso_pope_henry_louis_charles"
         ],
         "type": "scatter",
         "x": [
          0,
          1.1041184911915338,
          1.1041184911915338,
          0
         ],
         "xaxis": "x",
         "y": [
          -1585,
          -1585,
          -1595,
          -1595
         ],
         "yaxis": "y"
        },
        {
         "hoverinfo": "text",
         "marker": {
          "color": "rgb(0,116,217)"
         },
         "mode": "lines",
         "text": [
          "alphonso_pope_henry_louis_charles",
          "",
          "",
          "eccelino_azzo_enzio_este_frederick"
         ],
         "type": "scatter",
         "x": [
          1.4177388659700658,
          1.4608386457575393,
          1.4608386457575393,
          1.1041184911915338
         ],
         "xaxis": "x",
         "y": [
          -1535.625,
          -1535.625,
          -1590,
          -1590
         ],
         "yaxis": "y"
        },
        {
         "hoverinfo": "text",
         "marker": {
          "color": "rgb(0,116,217)"
         },
         "mode": "lines",
         "text": [
          "poland_gustavus_warsaw_boleslas_polish",
          "",
          "",
          "pope_alphonso_henry_louis_duke"
         ],
         "type": "scatter",
         "x": [
          1.4082814611435381,
          1.6866731718117696,
          1.6866731718117696,
          1.4608386457575393
         ],
         "xaxis": "x",
         "y": [
          -1478.75,
          -1478.75,
          -1562.8125,
          -1562.8125
         ],
         "yaxis": "y"
        },
        {
         "hoverinfo": "text",
         "marker": {
          "color": "rgb(0,116,217)"
         },
         "mode": "lines",
         "text": [
          "antigonus_emperor_hannibal_demetrius_constantius",
          "",
          "",
          "poland_pope_alphonso_her_duke"
         ],
         "type": "scatter",
         "x": [
          1.064928227064931,
          2.367779508426544,
          2.367779508426544,
          1.6866731718117696
         ],
         "xaxis": "x",
         "y": [
          -1412.1875,
          -1412.1875,
          -1520.78125,
          -1520.78125
         ],
         "yaxis": "y"
        },
        {
         "hoverinfo": "text",
         "marker": {
          "color": "rgb(255,220,0)"
         },
         "mode": "lines",
         "text": [
          "peerage_nobility_peers_hereditary_lords",
          "",
          "",
          "chivalry_knights_knighthood_knight_bannerets"
         ],
         "type": "scatter",
         "x": [
          0,
          0.8977488969661088,
          0.8977488969661088,
          0
         ],
         "xaxis": "x",
         "y": [
          -1625,
          -1625,
          -1635,
          -1635
         ],
         "yaxis": "y"
        },
        {
         "hoverinfo": "text",
         "marker": {
          "color": "rgb(0,116,217)"
         },
         "mode": "lines",
         "text": [
          "argent_gules_sable_azure_heraldry",
          "",
          "",
          "knights_chivalry_peerage_nobility_knighthood"
         ],
         "type": "scatter",
         "x": [
          0,
          1.0576218336684837,
          1.0576218336684837,
          0.8977488969661088
         ],
         "xaxis": "x",
         "y": [
          -1615,
          -1615,
          -1630,
          -1630
         ],
         "yaxis": "y"
        },
        {
         "hoverinfo": "text",
         "marker": {
          "color": "rgb(0,116,217)"
         },
         "mode": "lines",
         "text": [
          "argent_gules_sable_azure_heraldry",
          "",
          "",
          "steward_chamberlain_regalia_bailiffs_coronation"
         ],
         "type": "scatter",
         "x": [
          0,
          1.275489201723022,
          1.275489201723022,
          1.0576218336684837
         ],
         "xaxis": "x",
         "y": [
          -1605,
          -1605,
          -1622.5,
          -1622.5
         ],
         "yaxis": "y"
        },
        {
         "hoverinfo": "text",
         "marker": {
          "color": "rgb(0,116,217)"
         },
         "mode": "lines",
         "text": [
          "slave_slaves_slavery_serfdom_serfs",
          "",
          "",
          "tribunes_consuls_comitia_census_aediles"
         ],
         "type": "scatter",
         "x": [
          0,
          1.0303389094951458,
          1.0303389094951458,
          0
         ],
         "xaxis": "x",
         "y": [
          -1645,
          -1645,
          -1655,
          -1655
         ],
         "yaxis": "y"
        },
        {
         "hoverinfo": "text",
         "marker": {
          "color": "rgb(0,116,217)"
         },
         "mode": "lines",
         "text": [
          "exchange_money_currency_bills_price",
          "",
          "",
          "police_prisons_law_prison_estate"
         ],
         "type": "scatter",
         "x": [
          0,
          1.0442362701026435,
          1.0442362701026435,
          0
         ],
         "xaxis": "x",
         "y": [
          -1665,
          -1665,
          -1675,
          -1675
         ],
         "yaxis": "y"
        },
        {
         "hoverinfo": "text",
         "marker": {
          "color": "rgb(0,116,217)"
         },
         "mode": "lines",
         "text": [
          "exchange_money_economic_currency_bills",
          "",
          "",
          "inns_registration_inn_rolls_chancery"
         ],
         "type": "scatter",
         "x": [
          1.0442362701026435,
          1.28521359649525,
          1.28521359649525,
          0
         ],
         "xaxis": "x",
         "y": [
          -1670,
          -1670,
          -1685,
          -1685
         ],
         "yaxis": "y"
        },
        {
         "hoverinfo": "text",
         "marker": {
          "color": "rgb(0,116,217)"
         },
         "mode": "lines",
         "text": [
          "marriage_divorce_husband_adultery_wife",
          "",
          "",
          "exchange_money_economic_bills_currency"
         ],
         "type": "scatter",
         "x": [
          1.0303389094951458,
          1.3929168575354904,
          1.3929168575354904,
          1.28521359649525
         ],
         "xaxis": "x",
         "y": [
          -1650,
          -1650,
          -1677.5,
          -1677.5
         ],
         "yaxis": "y"
        },
        {
         "hoverinfo": "text",
         "marker": {
          "color": "rgb(0,116,217)"
         },
         "mode": "lines",
         "text": [
          "exchange_money_law_economic_bills",
          "",
          "",
          "insurance_assurance_insured_premiums_policies"
         ],
         "type": "scatter",
         "x": [
          1.275489201723022,
          1.5756140714467548,
          1.5756140714467548,
          1.3929168575354904
         ],
         "xaxis": "x",
         "y": [
          -1613.75,
          -1613.75,
          -1663.75,
          -1663.75
         ],
         "yaxis": "y"
        },
        {
         "hoverinfo": "text",
         "marker": {
          "color": "rgb(0,116,217)"
         },
         "mode": "lines",
         "text": [
          "slave_slaves_slavery_tribunes_consuls",
          "",
          "",
          "exchange_money_law_economic_bills"
         ],
         "type": "scatter",
         "x": [
          0,
          1.0055591181419623,
          1.0055591181419623,
          0
         ],
         "xaxis": "x",
         "y": [
          -1695,
          -1695,
          -1705,
          -1705
         ],
         "yaxis": "y"
        },
        {
         "hoverinfo": "text",
         "marker": {
          "color": "rgb(40,35,35)"
         },
         "mode": "lines",
         "text": [
          "exchange_money_law_economic_bills",
          "",
          "",
          "ambassador_diplomatic_diplomacy_ambassadors_congress"
         ],
         "type": "scatter",
         "x": [
          0,
          0.9685473780977155,
          0.9685473780977155,
          0
         ],
         "xaxis": "x",
         "y": [
          -1725,
          -1725,
          -1735,
          -1735
         ],
         "yaxis": "y"
        },
        {
         "hoverinfo": "text",
         "marker": {
          "color": "rgb(0,116,217)"
         },
         "mode": "lines",
         "text": [
          "argent_gules_sable_azure_heraldry",
          "",
          "",
          "exchange_money_law_economic_bills"
         ],
         "type": "scatter",
         "x": [
          0,
          1.1101837691045726,
          1.1101837691045726,
          0.9685473780977155
         ],
         "xaxis": "x",
         "y": [
          -1715,
          -1715,
          -1730,
          -1730
         ],
         "yaxis": "y"
        },
        {
         "hoverinfo": "text",
         "marker": {
          "color": "rgb(0,116,217)"
         },
         "mode": "lines",
         "text": [
          "prussia_germany_saxony_german_prussian",
          "",
          "",
          "frederick_poland_emperor_albert_elector"
         ],
         "type": "scatter",
         "x": [
          1.0055591181419623,
          1.2170131591280955,
          1.2170131591280955,
          1.1101837691045726
         ],
         "xaxis": "x",
         "y": [
          -1700,
          -1700,
          -1722.5,
          -1722.5
         ],
         "yaxis": "y"
        },
        {
         "hoverinfo": "text",
         "marker": {
          "color": "rgb(0,116,217)"
         },
         "mode": "lines",
         "text": [
          "canton_zurich_bern_swiss_switzerland",
          "",
          "",
          "prussia_germany_frederick_saxony_german"
         ],
         "type": "scatter",
         "x": [
          1.5756140714467548,
          1.6461860053772337,
          1.6461860053772337,
          1.2170131591280955
         ],
         "xaxis": "x",
         "y": [
          -1638.75,
          -1638.75,
          -1711.25,
          -1711.25
         ],
         "yaxis": "y"
        },
        {
         "hoverinfo": "text",
         "marker": {
          "color": "rgb(0,116,217)"
         },
         "mode": "lines",
         "text": [
          "denmark_sweden_norway_fjord_danish",
          "",
          "",
          "dutch_holland_netherlands_groningen_amsterdam"
         ],
         "type": "scatter",
         "x": [
          2.367779508426544,
          3.406508147961463,
          3.406508147961463,
          1.6461860053772337
         ],
         "xaxis": "x",
         "y": [
          -1466.484375,
          -1466.484375,
          -1675,
          -1675
         ],
         "yaxis": "y"
        },
        {
         "hoverinfo": "text",
         "marker": {
          "color": "rgb(0,116,217)"
         },
         "mode": "lines",
         "text": [
          "prussia_germany_frederick_saxony_german",
          "",
          "",
          "denmark_sweden_norway_fjord_danish"
         ],
         "type": "scatter",
         "x": [
          2.603893805760883,
          4.952298894288881,
          4.952298894288881,
          3.406508147961463
         ],
         "xaxis": "x",
         "y": [
          -1264.6875,
          -1264.6875,
          -1570.7421875,
          -1570.7421875
         ],
         "yaxis": "y"
        },
        {
         "hoverinfo": "text",
         "marker": {
          "color": "rgb(0,116,217)"
         },
         "mode": "lines",
         "text": [
          "prussia_frederick_germany_german_denmark",
          "",
          "",
          "belgium_brussels_ghent_lige_bruges"
         ],
         "type": "scatter",
         "x": [
          5.379300295395753,
          6.754937455019927,
          6.754937455019927,
          4.952298894288881
         ],
         "xaxis": "x",
         "y": [
          -641.943359375,
          -641.943359375,
          -1417.71484375,
          -1417.71484375
         ],
         "yaxis": "y"
        },
        {
         "hoverinfo": "text",
         "marker": {
          "color": "rgb(0,116,217)"
         },
         "mode": "lines",
         "text": [
          "salzburg_styria_hall_mnchsberg_sermon",
          "",
          "",
          "prussia_frederick_germany_german_denmark"
         ],
         "type": "scatter",
         "x": [
          2.3603982486441994,
          8.230743258851234,
          8.230743258851234,
          6.754937455019927
         ],
         "xaxis": "x",
         "y": [
          -131.25,
          -131.25,
          -1029.8291015625,
          -1029.8291015625
         ],
         "yaxis": "y"
        },
        {
         "hoverinfo": "text",
         "marker": {
          "color": "rgb(0,116,217)"
         },
         "mode": "lines",
         "text": [
          "france_thousand_napoleon_king_scotland",
          "",
          "",
          "county_acres_borough_town_miles"
         ],
         "type": "scatter",
         "x": [
          0,
          1.2637346405349272,
          1.2637346405349272,
          0
         ],
         "xaxis": "x",
         "y": [
          -1765,
          -1765,
          -1775,
          -1775
         ],
         "yaxis": "y"
        },
        {
         "hoverinfo": "text",
         "marker": {
          "color": "rgb(0,116,217)"
         },
         "mode": "lines",
         "text": [
          "county_acres_borough_town_parliament",
          "",
          "",
          "nelson_navy_fleet_congress_states"
         ],
         "type": "scatter",
         "x": [
          1.2637346405349272,
          1.3183117769183228,
          1.3183117769183228,
          0
         ],
         "xaxis": "x",
         "y": [
          -1770,
          -1770,
          -1785,
          -1785
         ],
         "yaxis": "y"
        },
        {
         "hoverinfo": "text",
         "marker": {
          "color": "rgb(0,116,217)"
         },
         "mode": "lines",
         "text": [
          "infantry_regiments_army_cavalry_corps",
          "",
          "",
          "county_acres_borough_parliament_town"
         ],
         "type": "scatter",
         "x": [
          0,
          1.364165237801127,
          1.364165237801127,
          1.3183117769183228
         ],
         "xaxis": "x",
         "y": [
          -1755,
          -1755,
          -1777.5,
          -1777.5
         ],
         "yaxis": "y"
        },
        {
         "hoverinfo": "text",
         "marker": {
          "color": "rgb(0,116,217)"
         },
         "mode": "lines",
         "text": [
          "county_acres_parliament_borough_town",
          "",
          "",
          "jefferson_congress_virginia_adams_washington"
         ],
         "type": "scatter",
         "x": [
          0,
          1.48750526274137,
          1.48750526274137,
          1.364165237801127
         ],
         "xaxis": "x",
         "y": [
          -1745,
          -1745,
          -1766.25,
          -1766.25
         ],
         "yaxis": "y"
        },
        {
         "hoverinfo": "text",
         "marker": {
          "color": "rgb(0,116,217)"
         },
         "mode": "lines",
         "text": [
          "lord_cromwell_fairfax_earl_parliament",
          "",
          "",
          "oxford_sermons_college_methodism_wesley"
         ],
         "type": "scatter",
         "x": [
          0,
          1.1773295291840806,
          1.1773295291840806,
          0
         ],
         "xaxis": "x",
         "y": [
          -1795,
          -1795,
          -1805,
          -1805
         ],
         "yaxis": "y"
        },
        {
         "hoverinfo": "text",
         "marker": {
          "color": "rgb(0,116,217)"
         },
         "mode": "lines",
         "text": [
          "lord_cromwell_oxford_cambridge_parliament",
          "",
          "",
          "shakespeare_shakespeares_8vo_stratford_plays"
         ],
         "type": "scatter",
         "x": [
          0,
          1.1510588368760049,
          1.1510588368760049,
          0
         ],
         "xaxis": "x",
         "y": [
          -1815,
          -1815,
          -1825,
          -1825
         ],
         "yaxis": "y"
        },
        {
         "hoverinfo": "text",
         "marker": {
          "color": "rgb(0,116,217)"
         },
         "mode": "lines",
         "text": [
          "knox_edinburgh_scotland_dr_pitcairne",
          "",
          "",
          "lord_oxford_8vo_shakespeare_cromwell"
         ],
         "type": "scatter",
         "x": [
          1.1773295291840806,
          1.189009296569161,
          1.189009296569161,
          1.1510588368760049
         ],
         "xaxis": "x",
         "y": [
          -1800,
          -1800,
          -1820,
          -1820
         ],
         "yaxis": "y"
        },
        {
         "hoverinfo": "text",
         "marker": {
          "color": "rgb(61,153,112)"
         },
         "mode": "lines",
         "text": [
          "physician_dr_hunter_lectures_medical",
          "",
          "",
          "lord_oxford_8vo_shakespeare_cromwell"
         ],
         "type": "scatter",
         "x": [
          0,
          0.9988604705163888,
          0.9988604705163888,
          0
         ],
         "xaxis": "x",
         "y": [
          -1835,
          -1835,
          -1845,
          -1845
         ],
         "yaxis": "y"
        },
        {
         "hoverinfo": "text",
         "marker": {
          "color": "rgb(0,116,217)"
         },
         "mode": "lines",
         "text": [
          "florence_petrarch_italian_machiavelli_venice",
          "",
          "",
          "paris_la_de_madame_du"
         ],
         "type": "scatter",
         "x": [
          0,
          1.1623180172603131,
          1.1623180172603131,
          0
         ],
         "xaxis": "x",
         "y": [
          -1855,
          -1855,
          -1865,
          -1865
         ],
         "yaxis": "y"
        },
        {
         "hoverinfo": "text",
         "marker": {
          "color": "rgb(0,116,217)"
         },
         "mode": "lines",
         "text": [
          "paris_de_la_madame_du",
          "",
          "",
          "der_luther_und_berlin_hegel"
         ],
         "type": "scatter",
         "x": [
          1.1623180172603131,
          1.2160463608517802,
          1.2160463608517802,
          0
         ],
         "xaxis": "x",
         "y": [
          -1860,
          -1860,
          -1875,
          -1875
         ],
         "yaxis": "y"
        },
        {
         "hoverinfo": "text",
         "marker": {
          "color": "rgb(0,116,217)"
         },
         "mode": "lines",
         "text": [
          "lord_oxford_college_dr_8vo",
          "",
          "",
          "paris_de_la_madame_des"
         ],
         "type": "scatter",
         "x": [
          0.9988604705163888,
          1.2897671456460622,
          1.2897671456460622,
          1.2160463608517802
         ],
         "xaxis": "x",
         "y": [
          -1840,
          -1840,
          -1867.5,
          -1867.5
         ],
         "yaxis": "y"
        },
        {
         "hoverinfo": "text",
         "marker": {
          "color": "rgb(0,116,217)"
         },
         "mode": "lines",
         "text": [
          "published_born_him_paris_himself",
          "",
          "",
          "composer_opera_music_operas_musical"
         ],
         "type": "scatter",
         "x": [
          1.189009296569161,
          1.447962168327843,
          1.447962168327843,
          1.2897671456460622
         ],
         "xaxis": "x",
         "y": [
          -1810,
          -1810,
          -1853.75,
          -1853.75
         ],
         "yaxis": "y"
        },
        {
         "hoverinfo": "text",
         "marker": {
          "color": "rgb(0,116,217)"
         },
         "mode": "lines",
         "text": [
          "county_acres_parliament_borough_town",
          "",
          "",
          "published_born_him_paris_himself"
         ],
         "type": "scatter",
         "x": [
          1.48750526274137,
          2.0616591244558893,
          2.0616591244558893,
          1.447962168327843
         ],
         "xaxis": "x",
         "y": [
          -1755.625,
          -1755.625,
          -1831.875,
          -1831.875
         ],
         "yaxis": "y"
        },
        {
         "hoverinfo": "text",
         "marker": {
          "color": "rgb(0,116,217)"
         },
         "mode": "lines",
         "text": [
          "prussia_frederick_germany_german_denmark",
          "",
          "",
          "county_acres_parliament_lord_london"
         ],
         "type": "scatter",
         "x": [
          0,
          1.0900470310666748,
          1.0900470310666748,
          0
         ],
         "xaxis": "x",
         "y": [
          -1895,
          -1895,
          -1905,
          -1905
         ],
         "yaxis": "y"
        },
        {
         "hoverinfo": "text",
         "marker": {
          "color": "rgb(0,116,217)"
         },
         "mode": "lines",
         "text": [
          "beauty_happiness_moral_pleasure_virtue",
          "",
          "",
          "god_religions_theology_religion_divine"
         ],
         "type": "scatter",
         "x": [
          1.0900470310666748,
          1.154959029448703,
          1.154959029448703,
          0
         ],
         "xaxis": "x",
         "y": [
          -1900,
          -1900,
          -1915,
          -1915
         ],
         "yaxis": "y"
        },
        {
         "hoverinfo": "text",
         "marker": {
          "color": "rgb(0,116,217)"
         },
         "mode": "lines",
         "text": [
          "instinct_association_instinctive_contiguity_mental",
          "",
          "",
          "god_religions_beauty_happiness_moral"
         ],
         "type": "scatter",
         "x": [
          0,
          1.311028250261483,
          1.311028250261483,
          1.154959029448703
         ],
         "xaxis": "x",
         "y": [
          -1885,
          -1885,
          -1907.5,
          -1907.5
         ],
         "yaxis": "y"
        },
        {
         "hoverinfo": "text",
         "marker": {
          "color": "rgb(0,116,217)"
         },
         "mode": "lines",
         "text": [
          "god_religions_beauty_happiness_moral",
          "",
          "",
          "8vo_ib_verb_4to_vols"
         ],
         "type": "scatter",
         "x": [
          0,
          1.2306778127468707,
          1.2306778127468707,
          0
         ],
         "xaxis": "x",
         "y": [
          -1925,
          -1925,
          -1935,
          -1935
         ],
         "yaxis": "y"
        },
        {
         "hoverinfo": "text",
         "marker": {
          "color": "rgb(0,116,217)"
         },
         "mode": "lines",
         "text": [
          "caste_brahman_sanskrit_hindi_castes",
          "",
          "",
          "8vo_god_ib_religions_verb"
         ],
         "type": "scatter",
         "x": [
          0,
          1.2673633931721808,
          1.2673633931721808,
          0
         ],
         "xaxis": "x",
         "y": [
          -1945,
          -1945,
          -1955,
          -1955
         ],
         "yaxis": "y"
        },
        {
         "hoverinfo": "text",
         "marker": {
          "color": "rgb(0,116,217)"
         },
         "mode": "lines",
         "text": [
          "socrates_plato_athens_aristotle_demosthenes",
          "",
          "",
          "caesar_cicero_virgil_rome_roman"
         ],
         "type": "scatter",
         "x": [
          1.2306778127468707,
          1.3564807371308694,
          1.3564807371308694,
          1.2673633931721808
         ],
         "xaxis": "x",
         "y": [
          -1930,
          -1930,
          -1950,
          -1950
         ],
         "yaxis": "y"
        },
        {
         "hoverinfo": "text",
         "marker": {
          "color": "rgb(0,116,217)"
         },
         "mode": "lines",
         "text": [
          "greece_athens_athenians_greeks_attica",
          "",
          "",
          "socrates_plato_athens_cicero_bc"
         ],
         "type": "scatter",
         "x": [
          0,
          1.18863585436174,
          1.18863585436174,
          0
         ],
         "xaxis": "x",
         "y": [
          -1965,
          -1965,
          -1975,
          -1975
         ],
         "yaxis": "y"
        },
        {
         "hoverinfo": "text",
         "marker": {
          "color": "rgb(0,116,217)"
         },
         "mode": "lines",
         "text": [
          "goddess_jupiter_she_her_hercules",
          "",
          "",
          "socrates_athens_greece_plato_bc"
         ],
         "type": "scatter",
         "x": [
          0,
          1.2663368230640786,
          1.2663368230640786,
          0
         ],
         "xaxis": "x",
         "y": [
          -1985,
          -1985,
          -1995,
          -1995
         ],
         "yaxis": "y"
        },
        {
         "hoverinfo": "text",
         "marker": {
          "color": "rgb(0,116,217)"
         },
         "mode": "lines",
         "text": [
          "egypt_palestine_jerusalem_jordan_judah",
          "",
          "",
          "egypt_nile_mamlukes_nubia_cairo"
         ],
         "type": "scatter",
         "x": [
          1.18863585436174,
          1.3343677669343128,
          1.3343677669343128,
          1.2663368230640786
         ],
         "xaxis": "x",
         "y": [
          -1970,
          -1970,
          -1990,
          -1990
         ],
         "yaxis": "y"
        },
        {
         "hoverinfo": "text",
         "marker": {
          "color": "rgb(0,116,217)"
         },
         "mode": "lines",
         "text": [
          "mohammed_caliph_koran_islam_ibn",
          "",
          "",
          "egypt_nile_egyptian_cairo_palestine"
         ],
         "type": "scatter",
         "x": [
          1.3343677669343128,
          1.4038698193627328,
          1.4038698193627328,
          0
         ],
         "xaxis": "x",
         "y": [
          -1980,
          -1980,
          -2005,
          -2005
         ],
         "yaxis": "y"
        },
        {
         "hoverinfo": "text",
         "marker": {
          "color": "rgb(0,116,217)"
         },
         "mode": "lines",
         "text": [
          "athens_socrates_greece_plato_bc",
          "",
          "",
          "egypt_caliph_mohammed_ali_cairo"
         ],
         "type": "scatter",
         "x": [
          1.3564807371308694,
          1.5140432694283257,
          1.5140432694283257,
          1.4038698193627328
         ],
         "xaxis": "x",
         "y": [
          -1940,
          -1940,
          -1992.5,
          -1992.5
         ],
         "yaxis": "y"
        },
        {
         "hoverinfo": "text",
         "marker": {
          "color": "rgb(0,116,217)"
         },
         "mode": "lines",
         "text": [
          "8vo_god_ib_verb_religions",
          "",
          "",
          "egypt_athens_socrates_greece_bc"
         ],
         "type": "scatter",
         "x": [
          1.311028250261483,
          1.6371807455972414,
          1.6371807455972414,
          1.5140432694283257
         ],
         "xaxis": "x",
         "y": [
          -1896.25,
          -1896.25,
          -1966.25,
          -1966.25
         ],
         "yaxis": "y"
        },
        {
         "hoverinfo": "text",
         "marker": {
          "color": "rgb(0,116,217)"
         },
         "mode": "lines",
         "text": [
          "epistle_luke_gospel_jesus_matthew",
          "",
          "",
          "heresy_sect_heretics_crusades_christ"
         ],
         "type": "scatter",
         "x": [
          0,
          1.1629200322989635,
          1.1629200322989635,
          0
         ],
         "xaxis": "x",
         "y": [
          -2015,
          -2015,
          -2025,
          -2025
         ],
         "yaxis": "y"
        },
        {
         "hoverinfo": "text",
         "marker": {
          "color": "rgb(0,116,217)"
         },
         "mode": "lines",
         "text": [
          "gospel_epistle_luke_jesus_matthew",
          "",
          "",
          "ambrose_pelagius_athanasius_nestorius_antioch"
         ],
         "type": "scatter",
         "x": [
          0,
          1.1377262076746464,
          1.1377262076746464,
          0
         ],
         "xaxis": "x",
         "y": [
          -2035,
          -2035,
          -2045,
          -2045
         ],
         "yaxis": "y"
        },
        {
         "hoverinfo": "text",
         "marker": {
          "color": "rgb(0,116,217)"
         },
         "mode": "lines",
         "text": [
          "psalms_categories_midrash_ps_psalter",
          "",
          "",
          "gospel_epistle_luke_jesus_matthew"
         ],
         "type": "scatter",
         "x": [
          1.1629200322989635,
          1.309644158895329,
          1.309644158895329,
          1.1377262076746464
         ],
         "xaxis": "x",
         "y": [
          -2020,
          -2020,
          -2040,
          -2040
         ],
         "yaxis": "y"
        },
        {
         "hoverinfo": "text",
         "marker": {
          "color": "rgb(0,116,217)"
         },
         "mode": "lines",
         "text": [
          "synod_presbyterian_ministers_presbyterianism_synods",
          "",
          "",
          "bishops_canon_church_presbyters_bishop"
         ],
         "type": "scatter",
         "x": [
          1.6371807455972414,
          1.7387307560954495,
          1.7387307560954495,
          1.309644158895329
         ],
         "xaxis": "x",
         "y": [
          -1931.25,
          -1931.25,
          -2030,
          -2030
         ],
         "yaxis": "y"
        },
        {
         "hoverinfo": "text",
         "marker": {
          "color": "rgb(0,116,217)"
         },
         "mode": "lines",
         "text": [
          "church_bishops_canon_synod_presbyters",
          "",
          "",
          "university_students_universities_colleges_professors"
         ],
         "type": "scatter",
         "x": [
          0,
          1.2570268205319475,
          1.2570268205319475,
          0
         ],
         "xaxis": "x",
         "y": [
          -2055,
          -2055,
          -2065,
          -2065
         ],
         "yaxis": "y"
        },
        {
         "hoverinfo": "text",
         "marker": {
          "color": "rgb(0,116,217)"
         },
         "mode": "lines",
         "text": [
          "gospel_epistle_luke_jesus_matthew",
          "",
          "",
          "university_church_bishops_canon_students"
         ],
         "type": "scatter",
         "x": [
          1.2570268205319475,
          1.3331550479518854,
          1.3331550479518854,
          0
         ],
         "xaxis": "x",
         "y": [
          -2060,
          -2060,
          -2075,
          -2075
         ],
         "yaxis": "y"
        },
        {
         "hoverinfo": "text",
         "marker": {
          "color": "rgb(0,116,217)"
         },
         "mode": "lines",
         "text": [
          "templars_grandmaster_hospitallers_knights_templar",
          "",
          "",
          "franciscans_friars_capuchins_franciscan_francis"
         ],
         "type": "scatter",
         "x": [
          1.7387307560954495,
          1.93227439644175,
          1.93227439644175,
          1.3331550479518854
         ],
         "xaxis": "x",
         "y": [
          -1980.625,
          -1980.625,
          -2067.5,
          -2067.5
         ],
         "yaxis": "y"
        },
        {
         "hoverinfo": "text",
         "marker": {
          "color": "rgb(0,116,217)"
         },
         "mode": "lines",
         "text": [
          "templars_grandmaster_order_franciscans_friars",
          "",
          "",
          "bernard_clairvaux_lanfrane_lanfranc_citeaux"
         ],
         "type": "scatter",
         "x": [
          2.0616591244558893,
          3.499763227047359,
          3.499763227047359,
          1.93227439644175
         ],
         "xaxis": "x",
         "y": [
          -1793.75,
          -1793.75,
          -2024.0625,
          -2024.0625
         ],
         "yaxis": "y"
        },
        {
         "hoverinfo": "text",
         "marker": {
          "color": "rgb(0,116,217)"
         },
         "mode": "lines",
         "text": [
          "gospel_epistle_church_jesus_luke",
          "",
          "",
          "templars_grandmaster_order_franciscans_hospitallers"
         ],
         "type": "scatter",
         "x": [
          0,
          1.2813731976276623,
          1.2813731976276623,
          0
         ],
         "xaxis": "x",
         "y": [
          -2085,
          -2085,
          -2095,
          -2095
         ],
         "yaxis": "y"
        },
        {
         "hoverinfo": "text",
         "marker": {
          "color": "rgb(0,116,217)"
         },
         "mode": "lines",
         "text": [
          "egypt_socrates_athens_god_greece",
          "",
          "",
          "gospel_epistle_church_jesus_luke"
         ],
         "type": "scatter",
         "x": [
          0,
          1.3318050406950008,
          1.3318050406950008,
          0
         ],
         "xaxis": "x",
         "y": [
          -2115,
          -2115,
          -2125,
          -2125
         ],
         "yaxis": "y"
        },
        {
         "hoverinfo": "text",
         "marker": {
          "color": "rgb(0,116,217)"
         },
         "mode": "lines",
         "text": [
          "county_acres_parliament_town_army",
          "",
          "",
          "god_egypt_socrates_athens_greek"
         ],
         "type": "scatter",
         "x": [
          0,
          1.4050783799756443,
          1.4050783799756443,
          1.3318050406950008
         ],
         "xaxis": "x",
         "y": [
          -2105,
          -2105,
          -2120,
          -2120
         ],
         "yaxis": "y"
        },
        {
         "hoverinfo": "text",
         "marker": {
          "color": "rgb(0,116,217)"
         },
         "mode": "lines",
         "text": [
          "exchange_argent_money_law_gules",
          "",
          "",
          "county_church_army_town_war"
         ],
         "type": "scatter",
         "x": [
          0,
          1.3522147482013593,
          1.3522147482013593,
          0
         ],
         "xaxis": "x",
         "y": [
          -2135,
          -2135,
          -2145,
          -2145
         ],
         "yaxis": "y"
        },
        {
         "hoverinfo": "text",
         "marker": {
          "color": "rgb(0,116,217)"
         },
         "mode": "lines",
         "text": [
          "van_rubens_painter_dyck_rembrandt",
          "",
          "",
          "painter_florence_raphael_vasari_painted"
         ],
         "type": "scatter",
         "x": [
          1.4050783799756443,
          1.4184547160248062,
          1.4184547160248062,
          1.3522147482013593
         ],
         "xaxis": "x",
         "y": [
          -2112.5,
          -2112.5,
          -2140,
          -2140
         ],
         "yaxis": "y"
        },
        {
         "hoverinfo": "text",
         "marker": {
          "color": "rgb(0,116,217)"
         },
         "mode": "lines",
         "text": [
          "painter_academy_portraits_portrait_reynolds",
          "",
          "",
          "painter_painted_pictures_gallery_painters"
         ],
         "type": "scatter",
         "x": [
          1.2813731976276623,
          1.5268659972537544,
          1.5268659972537544,
          1.4184547160248062
         ],
         "xaxis": "x",
         "y": [
          -2090,
          -2090,
          -2126.25,
          -2126.25
         ],
         "yaxis": "y"
        },
        {
         "hoverinfo": "text",
         "marker": {
          "color": "rgb(0,116,217)"
         },
         "mode": "lines",
         "text": [
          "louvre_ingres_painter_palissy_salon",
          "",
          "",
          "painter_pictures_painted_gallery_painting"
         ],
         "type": "scatter",
         "x": [
          0,
          1.391016228871719,
          1.391016228871719,
          0
         ],
         "xaxis": "x",
         "y": [
          -2155,
          -2155,
          -2165,
          -2165
         ],
         "yaxis": "y"
        },
        {
         "hoverinfo": "text",
         "marker": {
          "color": "rgb(0,116,217)"
         },
         "mode": "lines",
         "text": [
          "lamp_burial_dead_lamps_funeral",
          "",
          "",
          "worn_costume_sleeves_dress_hair"
         ],
         "type": "scatter",
         "x": [
          0,
          1.3275140047560279,
          1.3275140047560279,
          0
         ],
         "xaxis": "x",
         "y": [
          -2175,
          -2175,
          -2185,
          -2185
         ],
         "yaxis": "y"
        },
        {
         "hoverinfo": "text",
         "marker": {
          "color": "rgb(0,116,217)"
         },
         "mode": "lines",
         "text": [
          "architecture_mouldings_columns_cornice_arch",
          "",
          "",
          "ink_printing_raffaelle_painting_engraving"
         ],
         "type": "scatter",
         "x": [
          1.3275140047560279,
          1.3492978075479438,
          1.3492978075479438,
          0
         ],
         "xaxis": "x",
         "y": [
          -2180,
          -2180,
          -2195,
          -2195
         ],
         "yaxis": "y"
        },
        {
         "hoverinfo": "text",
         "marker": {
          "color": "rgb(0,116,217)"
         },
         "mode": "lines",
         "text": [
          "architecture_mouldings_columns_cornice_arch",
          "",
          "",
          "sculpture_reliefs_effigies_sculptors_paintings"
         ],
         "type": "scatter",
         "x": [
          1.3492978075479438,
          1.3954923940679456,
          1.3954923940679456,
          0
         ],
         "xaxis": "x",
         "y": [
          -2187.5,
          -2187.5,
          -2205,
          -2205
         ],
         "yaxis": "y"
        },
        {
         "hoverinfo": "text",
         "marker": {
          "color": "rgb(0,116,217)"
         },
         "mode": "lines",
         "text": [
          "coins_coinage_coin_silver_mint",
          "",
          "",
          "architecture_mouldings_columns_arch_cornice"
         ],
         "type": "scatter",
         "x": [
          1.391016228871719,
          1.4387836648013321,
          1.4387836648013321,
          1.3954923940679456
         ],
         "xaxis": "x",
         "y": [
          -2160,
          -2160,
          -2196.25,
          -2196.25
         ],
         "yaxis": "y"
        },
        {
         "hoverinfo": "text",
         "marker": {
          "color": "rgb(0,116,217)"
         },
         "mode": "lines",
         "text": [
          "worn_costume_sleeves_dress_lamp",
          "",
          "",
          "coins_architecture_mouldings_coinage_columns"
         ],
         "type": "scatter",
         "x": [
          1.5268659972537544,
          1.6297921698441573,
          1.6297921698441573,
          1.4387836648013321
         ],
         "xaxis": "x",
         "y": [
          -2108.125,
          -2108.125,
          -2178.125,
          -2178.125
         ],
         "yaxis": "y"
        },
        {
         "hoverinfo": "text",
         "marker": {
          "color": "rgb(0,116,217)"
         },
         "mode": "lines",
         "text": [
          "coins_architecture_mouldings_coinage_columns",
          "",
          "",
          "apelles_protogenes_zeuxis_parrhasius_lysippus"
         ],
         "type": "scatter",
         "x": [
          0,
          1.05665872469223,
          1.05665872469223,
          0
         ],
         "xaxis": "x",
         "y": [
          -2215,
          -2215,
          -2225,
          -2225
         ],
         "yaxis": "y"
        },
        {
         "hoverinfo": "text",
         "marker": {
          "color": "rgb(0,116,217)"
         },
         "mode": "lines",
         "text": [
          "painter_pictures_painted_painting_gallery",
          "",
          "",
          "coins_architecture_mouldings_coinage_columns"
         ],
         "type": "scatter",
         "x": [
          0,
          1.1375506223889962,
          1.1375506223889962,
          0
         ],
         "xaxis": "x",
         "y": [
          -2235,
          -2235,
          -2245,
          -2245
         ],
         "yaxis": "y"
        },
        {
         "hoverinfo": "text",
         "marker": {
          "color": "rgb(0,116,217)"
         },
         "mode": "lines",
         "text": [
          "county_parliament_church_war_army",
          "",
          "",
          "painter_painting_painted_pictures_painters"
         ],
         "type": "scatter",
         "x": [
          1.1375506223889962,
          1.247242709224339,
          1.247242709224339,
          0
         ],
         "xaxis": "x",
         "y": [
          -2240,
          -2240,
          -2255,
          -2255
         ],
         "yaxis": "y"
        },
        {
         "hoverinfo": "text",
         "marker": {
          "color": "rgb(0,116,217)"
         },
         "mode": "lines",
         "text": [
          "watervapour_jussieu_lavoisier_deville_montpellier",
          "",
          "",
          "linnaeus_upsala_wohler_botany_chemistry"
         ],
         "type": "scatter",
         "x": [
          1.05665872469223,
          1.5756810347075971,
          1.5756810347075971,
          1.247242709224339
         ],
         "xaxis": "x",
         "y": [
          -2220,
          -2220,
          -2247.5,
          -2247.5
         ],
         "yaxis": "y"
        },
        {
         "hoverinfo": "text",
         "marker": {
          "color": "rgb(0,116,217)"
         },
         "mode": "lines",
         "text": [
          "bonnet_dran_ettmuller_zoologie_surgery",
          "",
          "",
          "linnaeus_chemistry_botany_wohler_upsala"
         ],
         "type": "scatter",
         "x": [
          0,
          1.2372425139282615,
          1.2372425139282615,
          0
         ],
         "xaxis": "x",
         "y": [
          -2285,
          -2285,
          -2295,
          -2295
         ],
         "yaxis": "y"
        },
        {
         "hoverinfo": "text",
         "marker": {
          "color": "rgb(0,116,217)"
         },
         "mode": "lines",
         "text": [
          "laplace_legendre_laplaces_legendres_memoir",
          "",
          "",
          "astronomy_astronomer_observatory_astronomical_observations"
         ],
         "type": "scatter",
         "x": [
          0,
          1.2672347543986513,
          1.2672347543986513,
          1.2372425139282615
         ],
         "xaxis": "x",
         "y": [
          -2275,
          -2275,
          -2290,
          -2290
         ],
         "yaxis": "y"
        },
        {
         "hoverinfo": "text",
         "marker": {
          "color": "rgb(0,116,217)"
         },
         "mode": "lines",
         "text": [
          "astronomy_laplace_astronomer_observatory_astronomical",
          "",
          "",
          "herschel_boole_anderson_clarke_mathematical"
         ],
         "type": "scatter",
         "x": [
          0,
          1.3674991867109374,
          1.3674991867109374,
          1.2672347543986513
         ],
         "xaxis": "x",
         "y": [
          -2265,
          -2265,
          -2282.5,
          -2282.5
         ],
         "yaxis": "y"
        },
        {
         "hoverinfo": "text",
         "marker": {
          "color": "rgb(0,116,217)"
         },
         "mode": "lines",
         "text": [
          "astronomer_astronomy_laplace_astronomical_observatory",
          "",
          "",
          "craig_landen_flamsteed_craigs_borda"
         ],
         "type": "scatter",
         "x": [
          0,
          1.2185483754409383,
          1.2185483754409383,
          0
         ],
         "xaxis": "x",
         "y": [
          -2325,
          -2325,
          -2335,
          -2335
         ],
         "yaxis": "y"
        },
        {
         "hoverinfo": "text",
         "marker": {
          "color": "rgb(0,116,217)"
         },
         "mode": "lines",
         "text": [
          "linnaeus_chemistry_botany_wohler_sciences",
          "",
          "",
          "astronomy_astronomer_astronomical_laplace_observatory"
         ],
         "type": "scatter",
         "x": [
          0,
          1.2418757166504546,
          1.2418757166504546,
          1.2185483754409383
         ],
         "xaxis": "x",
         "y": [
          -2315,
          -2315,
          -2330,
          -2330
         ],
         "yaxis": "y"
        },
        {
         "hoverinfo": "text",
         "marker": {
          "color": "rgb(0,116,217)"
         },
         "mode": "lines",
         "text": [
          "burns_fergusson_muse_edinburgh_poems",
          "",
          "",
          "mrs_her_she_hernans_darblay"
         ],
         "type": "scatter",
         "x": [
          0,
          1.3456957761652335,
          1.3456957761652335,
          1.2418757166504546
         ],
         "xaxis": "x",
         "y": [
          -2305,
          -2305,
          -2322.5,
          -2322.5
         ],
         "yaxis": "y"
        },
        {
         "hoverinfo": "text",
         "marker": {
          "color": "rgb(0,116,217)"
         },
         "mode": "lines",
         "text": [
          "mrs_her_she_burns_hernans",
          "",
          "",
          "poushkin_russian_petersburg_karamzin_tourguenieff"
         ],
         "type": "scatter",
         "x": [
          1.3674991867109374,
          1.4859875173767647,
          1.4859875173767647,
          1.3456957761652335
         ],
         "xaxis": "x",
         "y": [
          -2273.75,
          -2273.75,
          -2313.75,
          -2313.75
         ],
         "yaxis": "y"
        },
        {
         "hoverinfo": "text",
         "marker": {
          "color": "rgb(0,116,217)"
         },
         "mode": "lines",
         "text": [
          "tegnr_swedish_dalin_copenhagen_geijer",
          "",
          "",
          "mrs_her_she_poushkin_russian"
         ],
         "type": "scatter",
         "x": [
          1.5756810347075971,
          1.9374089931068572,
          1.9374089931068572,
          1.4859875173767647
         ],
         "xaxis": "x",
         "y": [
          -2233.75,
          -2233.75,
          -2293.75,
          -2293.75
         ],
         "yaxis": "y"
        },
        {
         "hoverinfo": "text",
         "marker": {
          "color": "rgb(0,116,217)"
         },
         "mode": "lines",
         "text": [
          "her_mrs_she_poems_poushkin",
          "",
          "",
          "pesth_hungarian_magyar_kazinczy_etvs"
         ],
         "type": "scatter",
         "x": [
          0,
          1.3914267506683946,
          1.3914267506683946,
          0
         ],
         "xaxis": "x",
         "y": [
          -2345,
          -2345,
          -2355,
          -2355
         ],
         "yaxis": "y"
        },
        {
         "hoverinfo": "text",
         "marker": {
          "color": "rgb(0,116,217)"
         },
         "mode": "lines",
         "text": [
          "academy_astronomy_sciences_linnaeus_astronomer",
          "",
          "",
          "her_mrs_she_poems_hungarian"
         ],
         "type": "scatter",
         "x": [
          1.3914267506683946,
          1.4111908944519347,
          1.4111908944519347,
          0
         ],
         "xaxis": "x",
         "y": [
          -2350,
          -2350,
          -2365,
          -2365
         ],
         "yaxis": "y"
        },
        {
         "hoverinfo": "text",
         "marker": {
          "color": "rgb(0,116,217)"
         },
         "mode": "lines",
         "text": [
          "county_church_parliament_him_himself",
          "",
          "",
          "academy_published_sciences_astronomy_born"
         ],
         "type": "scatter",
         "x": [
          0,
          1.3762137063950248,
          1.3762137063950248,
          0
         ],
         "xaxis": "x",
         "y": [
          -2375,
          -2375,
          -2385,
          -2385
         ],
         "yaxis": "y"
        },
        {
         "hoverinfo": "text",
         "marker": {
          "color": "rgb(0,116,217)"
         },
         "mode": "lines",
         "text": [
          "poland_pope_her_alphonso_king",
          "",
          "",
          "county_church_him_parliament_himself"
         ],
         "type": "scatter",
         "x": [
          0,
          1.321999853426448,
          1.321999853426448,
          0
         ],
         "xaxis": "x",
         "y": [
          -2395,
          -2395,
          -2405,
          -2405
         ],
         "yaxis": "y"
        },
        {
         "hoverinfo": "text",
         "marker": {
          "color": "rgb(0,116,217)"
         },
         "mode": "lines",
         "text": [
          "sacrifice_sacrifices_piacular_sacrificial_ods",
          "",
          "",
          "baptism_sacrament_liturgy_catechumens_rite"
         ],
         "type": "scatter",
         "x": [
          1.3762137063950248,
          1.425967220592163,
          1.425967220592163,
          1.321999853426448
         ],
         "xaxis": "x",
         "y": [
          -2380,
          -2380,
          -2400,
          -2400
         ],
         "yaxis": "y"
        },
        {
         "hoverinfo": "text",
         "marker": {
          "color": "rgb(0,116,217)"
         },
         "mode": "lines",
         "text": [
          "baptism_sacrifice_sacrament_liturgy_rite",
          "",
          "",
          "sunday_sabbath_easter_observance_week"
         ],
         "type": "scatter",
         "x": [
          0,
          1.3510454077301501,
          1.3510454077301501,
          0
         ],
         "xaxis": "x",
         "y": [
          -2425,
          -2425,
          -2435,
          -2435
         ],
         "yaxis": "y"
        },
        {
         "hoverinfo": "text",
         "marker": {
          "color": "rgb(0,116,217)"
         },
         "mode": "lines",
         "text": [
          "excommunication_ordeal_accused_excommunicated_discipline",
          "",
          "",
          "baptism_sunday_sacrifice_sabbath_sacrament"
         ],
         "type": "scatter",
         "x": [
          0,
          1.3646275113891138,
          1.3646275113891138,
          1.3510454077301501
         ],
         "xaxis": "x",
         "y": [
          -2415,
          -2415,
          -2430,
          -2430
         ],
         "yaxis": "y"
        },
        {
         "hoverinfo": "text",
         "marker": {
          "color": "rgb(0,116,217)"
         },
         "mode": "lines",
         "text": [
          "fasti_graal_month_festivals_festival",
          "",
          "",
          "festival_feast_thesmophoria_feasts_festivals"
         ],
         "type": "scatter",
         "x": [
          1.425967220592163,
          1.4849870278684798,
          1.4849870278684798,
          1.3646275113891138
         ],
         "xaxis": "x",
         "y": [
          -2390,
          -2390,
          -2422.5,
          -2422.5
         ],
         "yaxis": "y"
        },
        {
         "hoverinfo": "text",
         "marker": {
          "color": "rgb(0,116,217)"
         },
         "mode": "lines",
         "text": [
          "baptism_sunday_sacrifice_sabbath_sacrament",
          "",
          "",
          "festival_feast_fasti_feasts_festivals"
         ],
         "type": "scatter",
         "x": [
          1.4111908944519347,
          1.724257239045855,
          1.724257239045855,
          1.4849870278684798
         ],
         "xaxis": "x",
         "y": [
          -2357.5,
          -2357.5,
          -2406.25,
          -2406.25
         ],
         "yaxis": "y"
        },
        {
         "hoverinfo": "text",
         "marker": {
          "color": "rgb(0,116,217)"
         },
         "mode": "lines",
         "text": [
          "prophets_job_israel_jehovah_prophecy",
          "",
          "",
          "israel_prophet_judah_sam_elijah"
         ],
         "type": "scatter",
         "x": [
          1.9374089931068572,
          2.488666392118429,
          2.488666392118429,
          1.724257239045855
         ],
         "xaxis": "x",
         "y": [
          -2263.75,
          -2263.75,
          -2381.875,
          -2381.875
         ],
         "yaxis": "y"
        },
        {
         "hoverinfo": "text",
         "marker": {
          "color": "rgb(0,116,217)"
         },
         "mode": "lines",
         "text": [
          "israel_prophets_jehovah_prophet_judah",
          "",
          "",
          "priestly_pentateuch_deuteronomy_jehovist_code"
         ],
         "type": "scatter",
         "x": [
          0,
          1.3272401431697949,
          1.3272401431697949,
          0
         ],
         "xaxis": "x",
         "y": [
          -2455,
          -2455,
          -2465,
          -2465
         ],
         "yaxis": "y"
        },
        {
         "hoverinfo": "text",
         "marker": {
          "color": "rgb(0,116,217)"
         },
         "mode": "lines",
         "text": [
          "bible_targum_bibles_proverbs_solomon",
          "",
          "",
          "israel_prophets_jehovah_prophet_judah"
         ],
         "type": "scatter",
         "x": [
          0,
          1.3326149989879423,
          1.3326149989879423,
          1.3272401431697949
         ],
         "xaxis": "x",
         "y": [
          -2445,
          -2445,
          -2460,
          -2460
         ],
         "yaxis": "y"
        },
        {
         "hoverinfo": "text",
         "marker": {
          "color": "rgb(0,116,217)"
         },
         "mode": "lines",
         "text": [
          "israel_prophets_bible_jehovah_prophet",
          "",
          "",
          "abram_levites_levi_sarai_abrams"
         ],
         "type": "scatter",
         "x": [
          1.3326149989879423,
          1.366943443151436,
          1.366943443151436,
          0
         ],
         "xaxis": "x",
         "y": [
          -2452.5,
          -2452.5,
          -2475,
          -2475
         ],
         "yaxis": "y"
        },
        {
         "hoverinfo": "text",
         "marker": {
          "color": "rgb(0,116,217)"
         },
         "mode": "lines",
         "text": [
          "noah_deluge_ark_flood_shem",
          "",
          "",
          "israel_prophets_jehovah_bible_prophet"
         ],
         "type": "scatter",
         "x": [
          1.366943443151436,
          1.3960161623317962,
          1.3960161623317962,
          0
         ],
         "xaxis": "x",
         "y": [
          -2463.75,
          -2463.75,
          -2485,
          -2485
         ],
         "yaxis": "y"
        },
        {
         "hoverinfo": "text",
         "marker": {
          "color": "rgb(0,116,217)"
         },
         "mode": "lines",
         "text": [
          "israel_prophets_jehovah_bible_prophet",
          "",
          "",
          "artaxerxes_darius_ahasuerus_esther_xerxes"
         ],
         "type": "scatter",
         "x": [
          1.3960161623317962,
          1.4259402186220635,
          1.4259402186220635,
          0
         ],
         "xaxis": "x",
         "y": [
          -2474.375,
          -2474.375,
          -2495,
          -2495
         ],
         "yaxis": "y"
        },
        {
         "hoverinfo": "text",
         "marker": {
          "color": "rgb(0,116,217)"
         },
         "mode": "lines",
         "text": [
          "baptism_sunday_festival_sacrifice_feast",
          "",
          "",
          "israel_prophets_jehovah_bible_hebrew"
         ],
         "type": "scatter",
         "x": [
          2.488666392118429,
          3.1562440657573227,
          3.1562440657573227,
          1.4259402186220635
         ],
         "xaxis": "x",
         "y": [
          -2322.8125,
          -2322.8125,
          -2484.6875,
          -2484.6875
         ],
         "yaxis": "y"
        },
        {
         "hoverinfo": "text",
         "marker": {
          "color": "rgb(0,116,217)"
         },
         "mode": "lines",
         "text": [
          "county_him_king_church_himself",
          "",
          "",
          "israel_baptism_prophets_jehovah_bible"
         ],
         "type": "scatter",
         "x": [
          1.6297921698441573,
          3.7333426360692417,
          3.7333426360692417,
          3.1562440657573227
         ],
         "xaxis": "x",
         "y": [
          -2143.125,
          -2143.125,
          -2403.75,
          -2403.75
         ],
         "yaxis": "y"
        },
        {
         "hoverinfo": "text",
         "marker": {
          "color": "rgb(0,116,217)"
         },
         "mode": "lines",
         "text": [
          "species_velocity_genus_water_surface",
          "",
          "",
          "county_church_king_him_himself"
         ],
         "type": "scatter",
         "x": [
          3.499763227047359,
          8.300013496337712,
          8.300013496337712,
          3.7333426360692417
         ],
         "xaxis": "x",
         "y": [
          -1908.90625,
          -1908.90625,
          -2273.4375,
          -2273.4375
         ],
         "yaxis": "y"
        },
        {
         "hoverinfo": "text",
         "marker": {
          "color": "rgb(0,116,217)"
         },
         "mode": "lines",
         "text": [
          "hindustan_gaelic_lat_province_games",
          "",
          "",
          "county_town_miles_city_river"
         ],
         "type": "scatter",
         "x": [
          8.230743258851234,
          21.174740862802192,
          21.174740862802192,
          8.300013496337712
         ],
         "xaxis": "x",
         "y": [
          -580.53955078125,
          -580.53955078125,
          -2091.171875,
          -2091.171875
         ],
         "yaxis": "y"
        },
        {
         "hoverinfo": "text",
         "hovertext": [
          "vii_hermupolis_753754_783_769",
          "see_vsrhely_tostatus_jaghiredar_dixmerie",
          "vol_see_persia_mongoos_mungoos",
          "barrel_batenites_measure_achteling_aume",
          "affirmative_syllogism_propositions_logic_affirmatives",
          "affirmative_preexistent_syllogism_preexistence_propositions",
          "constellation_divination_aconitum_astronomy_star",
          "bacon_occam_opus_majus_tertium",
          "gaelic_wycliffe_aesir_baldur_wycliffes",
          "rabbenu_rashi_talmud_rabbi_shelomoh",
          "constellation_divination_aconitum_astronomy_affirmative",
          "mates_marines_quartergunners_sixpounders_mate",
          "gladiators_arena_circus_amphitheatre_amphitheatres",
          "gladiators_games_circus_arena_amphitheatre",
          "column_columns_architecture_octostyle_pycnostyle",
          "decempeda_pedatura_palmus_fingerbreadths_leaguers",
          "manege_couriers_horse_airings_mange",
          "see_ornithology_vol_tostatus_vsrhely",
          "hindustan_lat_province_town_bahar",
          "carnatic_pondicherry_trinomalee_79_trivalenoor",
          "calvi_intendancy_calatanisetta_calatia_giovanniello",
          "chiusa_intendancy_calvi_calatanisetta_calatia",
          "hindustan_lat_province_town_bahar",
          "gaelic_games_gladiators_wycliffe_rabbenu",
          "department_loire_arrondissements_seine_normandy",
          "aubin_aumale_aube_department_auch",
          "turkey_mosques_shemaha_shumla_vilayet",
          "mexico_alhambra_oran_moorish_granada",
          "department_arrondissement_communes_cantons_loire",
          "yenisei_tobolsk_irkutsk_lena_asiatic",
          "bosphorus_crimea_sea_caffa_black",
          "moscow_russia_russian_caucasus_petersburg",
          "antioch_alexandria_seleucus_orontes_amrou",
          "spain_province_madrid_seville_tagus",
          "congo_niger_africa_senegal_natal",
          "buenos_ayres_peru_andes_chili",
          "islands_island_coast_colony_lat",
          "district_hindus_bengal_ganges_rice",
          "district_hindus_bengal_rice_ganges",
          "district_hindus_bengal_rice_ganges",
          "department_arrondissement_communes_cantons_loire",
          "melody_music_chord_harmony_sounds",
          "cos_sin_tan_angle_triangle",
          "ptolemy_almagest_apollonius_marinus_hipparchus",
          "sounds_sound_bass_alphabet_instrument",
          "velocity_piston_wheel_fluid_valve",
          "ship_sails_wind_ships_sail",
          "velocity_wheel_motion_ship_water",
          "brit_avoird_lbs_balance_weights",
          "sun_planet_stars_ecliptic_parallax",
          "electricity_electrical_conductor_wire_electric",
          "electricity_electrical_conductor_wire_electric",
          "blind_cornea_eye_hypermetropia_myopia",
          "warp_wool_yarn_silk_loom",
          "wool_warp_crop_yarn_silk",
          "hive_bees_hives_bee_huber",
          "hive_bees_malt_wool_warp",
          "baths_blind_bathing_bath_cornea",
          "equation_cos_sin_equations_fraction",
          "alum_alumslate_sulphate_salt_potash",
          "diamond_carats_diamonds_ruby_jade",
          "alum_platinum_metals_cobalt_sulphate",
          "alloy_brass_bronze_mould_moulds",
          "flowers_plant_flower_stamens_leaves",
          "rubber_oils_oil_leather_skins",
          "fishes_teeth_species_fin_fins",
          "genus_species_disease_teeth_dorsal",
          "evolution_sexual_ovum_spores_protoplasm",
          "birds_bird_plumage_species_subregion",
          "miles_province_district_lat_island",
          "hannibal_hasdrubal_hamilcar_carthaginian_carthage",
          "poland_gustavus_boleslas_warsaw_vistula",
          "pope_louis_charles_pontificate_cond",
          "her_she_bruce_elizabeth_bothwell",
          "alphonso_pope_henry_louis_charles",
          "alphonso_pope_henry_louis_charles",
          "poland_gustavus_warsaw_boleslas_polish",
          "antigonus_emperor_hannibal_demetrius_constantius",
          "exchange_money_economic_currency_bills",
          "marriage_divorce_husband_adultery_wife",
          "exchange_money_law_economic_bills",
          "prussia_germany_saxony_german_prussian",
          "canton_zurich_bern_swiss_switzerland",
          "denmark_sweden_norway_fjord_danish",
          "prussia_germany_frederick_saxony_german",
          "prussia_frederick_germany_german_denmark",
          "salzburg_styria_hall_mnchsberg_sermon",
          "county_acres_borough_town_parliament",
          "knox_edinburgh_scotland_dr_pitcairne",
          "paris_de_la_madame_du",
          "lord_oxford_college_dr_8vo",
          "published_born_him_paris_himself",
          "county_acres_parliament_borough_town",
          "beauty_happiness_moral_pleasure_virtue",
          "socrates_plato_athens_aristotle_demosthenes",
          "egypt_palestine_jerusalem_jordan_judah",
          "mohammed_caliph_koran_islam_ibn",
          "athens_socrates_greece_plato_bc",
          "8vo_god_ib_verb_religions",
          "psalms_categories_midrash_ps_psalter",
          "synod_presbyterian_ministers_presbyterianism_synods",
          "gospel_epistle_luke_jesus_matthew",
          "templars_grandmaster_hospitallers_knights_templar",
          "templars_grandmaster_order_franciscans_friars",
          "van_rubens_painter_dyck_rembrandt",
          "painter_academy_portraits_portrait_reynolds",
          "architecture_mouldings_columns_cornice_arch",
          "architecture_mouldings_columns_cornice_arch",
          "coins_coinage_coin_silver_mint",
          "worn_costume_sleeves_dress_lamp",
          "county_parliament_church_war_army",
          "watervapour_jussieu_lavoisier_deville_montpellier",
          "mrs_her_she_burns_hernans",
          "tegnr_swedish_dalin_copenhagen_geijer",
          "academy_astronomy_sciences_linnaeus_astronomer",
          "sacrifice_sacrifices_piacular_sacrificial_ods",
          "fasti_graal_month_festivals_festival",
          "baptism_sunday_sacrifice_sabbath_sacrament",
          "prophets_job_israel_jehovah_prophecy",
          "israel_prophets_bible_jehovah_prophet",
          "noah_deluge_ark_flood_shem",
          "israel_prophets_jehovah_bible_prophet",
          "baptism_sunday_festival_sacrifice_feast",
          "county_him_king_church_himself",
          "species_velocity_genus_water_surface",
          "hindustan_gaelic_lat_province_games"
         ],
         "marker": {
          "color": "black"
         },
         "mode": "markers",
         "showlegend": false,
         "type": "scatter",
         "x": [
          0.8039551863335402,
          0.898117606511763,
          0.8714092021340749,
          0.7379689284684128,
          0.8791692928635062,
          1.0945179601767439,
          0.6326352904103549,
          0.7424664523913866,
          0.8278611140389013,
          0.827509823966623,
          0.7818502831008637,
          0.8044794146899906,
          1.1577657489295519,
          1.6328293393461915,
          0.8580505355432473,
          0.7922695057672722,
          1.0308858018460139,
          0.9378210787796574,
          1.1796033967428745,
          0.9868422015988765,
          0.8522490834142257,
          1.0176350943372654,
          0.8912696570023824,
          1.1065260767111478,
          1.2217263759433161,
          1.0358767906118278,
          1.2245716370486415,
          1.0940484426597243,
          1.6949208179179833,
          1.5453397159988436,
          1.1559836240507662,
          1.1949829516271735,
          1.0378765248701194,
          0.9754396215707127,
          1.2041585534837045,
          1.2879478184253723,
          1.567447991408575,
          1.1531915929164458,
          1.012322158213274,
          2.258877504496481,
          0.8023970606487959,
          0.863455198378774,
          0.8423514078631413,
          1.1671672573623877,
          0.9060075005708956,
          0.9899939732186174,
          1.0430668409589283,
          1.0041549243575418,
          1.1326590739997249,
          1.0995651802568691,
          0.9127339112376306,
          0.9701896913038571,
          1.0111238434190055,
          1.1169012054613021,
          1.7639871018352058,
          1.4409445390644215,
          2.7441605162941016,
          2.9479968535853076,
          0.7981639361692429,
          0.7598162481450077,
          0.7995428779872316,
          0.8834820275700543,
          0.7764467080641414,
          0.8620486404128922,
          1.0791021398385583,
          0.9166425525044866,
          1.0458821023793168,
          1.2256062125299552,
          1.5469292153867997,
          0.9956617544717353,
          1.1452533500509294,
          1.2083695614172636,
          1.1068227378300757,
          1.141873690758138,
          1.153274688626069,
          1.4177388659700658,
          1.4082814611435381,
          1.064928227064931,
          1.0442362701026435,
          1.0303389094951458,
          1.275489201723022,
          1.0055591181419623,
          1.5756140714467548,
          2.367779508426544,
          2.603893805760883,
          5.379300295395753,
          2.3603982486441994,
          1.2637346405349272,
          1.1773295291840806,
          1.1623180172603131,
          0.9988604705163888,
          1.189009296569161,
          1.48750526274137,
          1.0900470310666748,
          1.2306778127468707,
          1.18863585436174,
          1.3343677669343128,
          1.3564807371308694,
          1.311028250261483,
          1.1629200322989635,
          1.6371807455972414,
          1.2570268205319475,
          1.7387307560954495,
          2.0616591244558893,
          1.4050783799756443,
          1.2813731976276623,
          1.3275140047560279,
          1.3492978075479438,
          1.391016228871719,
          1.5268659972537544,
          1.1375506223889962,
          1.05665872469223,
          1.3674991867109374,
          1.5756810347075971,
          1.3914267506683946,
          1.3762137063950248,
          1.425967220592163,
          1.4111908944519347,
          1.9374089931068572,
          1.3326149989879423,
          1.366943443151436,
          1.3960161623317962,
          2.488666392118429,
          1.6297921698441573,
          3.499763227047359,
          8.230743258851234
         ],
         "y": [
          -10,
          -40,
          -17.5,
          -100,
          -72.5,
          -32.5,
          -150,
          -130,
          -180,
          -143.75,
          -240,
          -220,
          -166.875,
          -61.25,
          -300,
          -330,
          -296.25,
          -360,
          -316.875,
          -400,
          -460,
          -440,
          -500,
          -455,
          -410,
          -530,
          -562.5,
          -537.5,
          -445.625,
          -343.4375,
          -600,
          -607.5,
          -682.5,
          -660,
          -732.5,
          -678.125,
          -620,
          -822.5,
          -783.75,
          -666.09375,
          -890,
          -870,
          -920,
          -883.75,
          -980,
          -976.25,
          -1020,
          -1050,
          -1027.5,
          -972.8125,
          -1080,
          -1087.5,
          -1132.5,
          -1098.75,
          -1007.65625,
          -906.875,
          -738.046875,
          -422.03125,
          -1190,
          -1230,
          -1237.5,
          -1200,
          -1170,
          -1280,
          -1277.5,
          -1342.5,
          -1353.75,
          -1298.75,
          -1196.5625,
          -1413.75,
          -1460,
          -1467.5,
          -1540,
          -1547.5,
          -1512.5,
          -1535.625,
          -1478.75,
          -1412.1875,
          -1670,
          -1650,
          -1613.75,
          -1700,
          -1638.75,
          -1466.484375,
          -1264.6875,
          -641.943359375,
          -131.25,
          -1770,
          -1800,
          -1860,
          -1840,
          -1810,
          -1755.625,
          -1900,
          -1930,
          -1970,
          -1980,
          -1940,
          -1896.25,
          -2020,
          -1931.25,
          -2060,
          -1980.625,
          -1793.75,
          -2112.5,
          -2090,
          -2180,
          -2187.5,
          -2160,
          -2108.125,
          -2240,
          -2220,
          -2273.75,
          -2233.75,
          -2350,
          -2380,
          -2390,
          -2357.5,
          -2263.75,
          -2452.5,
          -2463.75,
          -2474.375,
          -2322.8125,
          -2143.125,
          -1908.90625,
          -580.53955078125
         ]
        },
        {
         "hoverinfo": "text",
         "hovertext": [
          "see_ornithology_vsrhely_tostatus_index",
          "divination_crithomancy_hepatoscopia_rhapsodomancy_sieve",
          "preexistent_preexistence_consequential_pereyra_preterition",
          "apostasy_apostasis_clericatu_epistemonarch_applicdby",
          "wycliffe_wycliffes_coronet_zizaniorum_basinet",
          "caricature_grotesque_daumier_gillray_philipon",
          "gaelic_wycliffe_aesir_baldur_wycliffes",
          "sonnet_music_purcell_sestet_organist",
          "gaelic_wycliffe_rabbenu_rashi_sonnet",
          "cumae_cumaeans_taormina_tauromenium_naxos",
          "games_agon_olympian_olympiad_olympia",
          "arvales_gerontes_ostracism_lexiarchi_logistae",
          "column_columns_architecture_temple_temples",
          "pillory_guillotine_punishment_healfang_furca",
          "gaelic_games_gladiators_wycliffe_rabbenu",
          "hindustan_rungpoor_lat_mungulore_province715598",
          "hindustan_lat_province_town_bahar",
          "chiusa_chiusi_chiaramonte_rapallo_sturla",
          "ceneda_cephaloedium_cervia_cefalu_ceva",
          "hindustan_lat_province_town_district",
          "arrondissement_department_communes_cantons_france",
          "mexico_alhambra_moorish_granada_chihuahua",
          "turkey_mosques_shemaha_turks_turkish",
          "mosques_turkey_mexico_alhambra_shemaha",
          "caucasus_tiflis_caspian_rion_georgia",
          "moscow_russia_petersburg_volga_oka",
          "esthonian_oesel_esthonians_reval_arensburg",
          "mecca_arabia_yemen_palmyra_damascus",
          "mecca_arabia_yemen_morocco_arabs",
          "italy_di_cathedral_lombardy_city",
          "province_city_cathedral_spain_italy",
          "islands_island_java_sumatra_malay",
          "cervantes_columbus_madrid_spanish_lope",
          "buenos_peru_ayres_bolivar_andes",
          "islands_island_coast_peru_buenos",
          "japanese_japan_yedo_kioto_tki",
          "islands_island_coast_rio_buenos",
          "burmese_pegu_burmah_irawadi_rangoon",
          "ceylon_colombo_sinhalese_galle_kandy",
          "berbice_guiana_cayenne_canje_surinam",
          "trumpet_strings_instrument_flute_bass",
          "equation_equations_cos_roots_fraction",
          "calendar_epact_epacts_cycle_dominical",
          "ship_anchor_rope_sails_sail",
          "velocity_motion_piston_wheel_pressure",
          "velocity_motion_wheel_ship_water",
          "winds_diurnal_atmosphere_temperature_pressure",
          "liquid_thermometric_surfacetension_thermometer_temperature",
          "electricity_temperature_electrical_heat_air",
          "crop_crops_farm_sown_turnips",
          "malt_wines_fermentation_wort_yeast",
          "malt_wool_warp_fermentation_wines",
          "arkwright_watt_inventions_boulton_patent",
          "hive_bees_malt_wool_warp",
          "velocity_motion_electricity_pressure_wheel",
          "coal_coals_strata_seams_diamond",
          "coal_alum_coals_strata_seams",
          "rhubarb_lemon_rind_citrus_fruit",
          "rhubarb_flowers_plant_fruit_leaves",
          "flowers_rhubarb_plant_leaves_fruit",
          "molars_teeth_tail_species_incisors",
          "serpents_snakes_snake_reptiles_scales",
          "genus_species_teeth_disease_dorsal",
          "birds_breeds_fowls_plumage_birdcatchers",
          "species_genus_genera_teeth_disease",
          "species_genus_genera_teeth_disease",
          "antigonus_demetrius_eumenes_cassander_lysimachus",
          "catherine_czar_empress_russian_peter",
          "bruce_james_mar_earldom_earl",
          "alphonso_pope_louis_henry_charles",
          "witt_barneveldt_orange_stadtholder_william",
          "eccelino_azzo_enzio_este_frederick",
          "pope_alphonso_henry_louis_duke",
          "poland_pope_alphonso_her_duke",
          "knights_chivalry_peerage_nobility_knighthood",
          "steward_chamberlain_regalia_bailiffs_coronation",
          "exchange_money_economic_bills_currency",
          "insurance_assurance_insured_premiums_policies",
          "exchange_money_law_economic_bills",
          "frederick_poland_emperor_albert_elector",
          "prussia_germany_frederick_saxony_german",
          "dutch_holland_netherlands_groningen_amsterdam",
          "denmark_sweden_norway_fjord_danish",
          "belgium_brussels_ghent_lige_bruges",
          "prussia_frederick_germany_german_denmark",
          "county_acres_borough_parliament_town",
          "jefferson_congress_virginia_adams_washington",
          "lord_oxford_8vo_shakespeare_cromwell",
          "paris_de_la_madame_des",
          "composer_opera_music_operas_musical",
          "published_born_him_paris_himself",
          "god_religions_beauty_happiness_moral",
          "caesar_cicero_virgil_rome_roman",
          "egypt_nile_mamlukes_nubia_cairo",
          "egypt_caliph_mohammed_ali_cairo",
          "egypt_athens_socrates_greece_bc",
          "gospel_epistle_luke_jesus_matthew",
          "bishops_canon_church_presbyters_bishop",
          "franciscans_friars_capuchins_franciscan_francis",
          "bernard_clairvaux_lanfrane_lanfranc_citeaux",
          "god_egypt_socrates_athens_greek",
          "painter_florence_raphael_vasari_painted",
          "painter_painted_pictures_gallery_painters",
          "architecture_mouldings_columns_arch_cornice",
          "coins_architecture_mouldings_coinage_columns",
          "linnaeus_upsala_wohler_botany_chemistry",
          "astronomy_astronomer_observatory_astronomical_observations",
          "herschel_boole_anderson_clarke_mathematical",
          "astronomy_astronomer_astronomical_laplace_observatory",
          "mrs_her_she_hernans_darblay",
          "poushkin_russian_petersburg_karamzin_tourguenieff",
          "mrs_her_she_poushkin_russian",
          "baptism_sacrament_liturgy_catechumens_rite",
          "baptism_sunday_sacrifice_sabbath_sacrament",
          "festival_feast_thesmophoria_feasts_festivals",
          "festival_feast_fasti_feasts_festivals",
          "israel_prophet_judah_sam_elijah",
          "israel_prophets_jehovah_prophet_judah",
          "israel_prophets_jehovah_bible_hebrew",
          "israel_baptism_prophets_jehovah_bible",
          "county_church_king_him_himself",
          "county_town_miles_city_river"
         ],
         "marker": {
          "color": "black"
         },
         "mode": "markers",
         "showlegend": false,
         "type": "scatter",
         "x": [
          0.9549864185023398,
          0.7348046836471651,
          0.9919627999153412,
          1.2791010628839035,
          0.7636351397873671,
          0.9388351802220851,
          1.037386392012957,
          0.8139237542886809,
          0.9354243280624417,
          0.9843867860444113,
          1.2822955843083796,
          2.1365270736885793,
          1.0010060792699729,
          0.9629758381214005,
          0.9514056665471713,
          1.0297078248829614,
          0.7655412176070013,
          0.977311017959251,
          1.0362002552736937,
          1.0278195250977036,
          1.3970804576013813,
          1.0618297431209471,
          1.277901099600511,
          1.328142512321401,
          1.795137819253964,
          0.9836115033007258,
          1.1690421839550922,
          0.9036807208606906,
          0.9207865142773053,
          1.068244366301247,
          1.1328689602990392,
          1.0758304406434573,
          1.2532132295819838,
          1.555451617808777,
          0.7900700393343455,
          0.9628555405899728,
          1.048461475907599,
          1.0036345069232033,
          1.3412879692396997,
          1.657365585677853,
          1.0660987580772776,
          0.9235891122914294,
          1.0408385501031403,
          0.9405214592624607,
          1.048217867376096,
          1.0907707564898617,
          1.3732437130894843,
          0.9044992385664807,
          0.773053487465096,
          1.0528970091701626,
          1.7813497074802653,
          2.245221991593901,
          2.4319652892254595,
          3.5381188791355447,
          0.7560392195583131,
          0.9686267755981761,
          1.1648924766840065,
          0.9471413749482224,
          1.0250748688147613,
          0.8118730300202149,
          0.8515461142322663,
          1.0081564366627607,
          1.2501367471347342,
          1.4459509075923778,
          0.7643607143216212,
          0.8463145245357092,
          1.0097071393898205,
          1.0964451416215482,
          0.9415168401609253,
          1.0941364443120907,
          1.2441396000896048,
          1.1041184911915338,
          1.4608386457575393,
          1.6866731718117696,
          0.8977488969661088,
          1.0576218336684837,
          1.28521359649525,
          1.3929168575354904,
          0.9685473780977155,
          1.1101837691045726,
          1.2170131591280955,
          1.6461860053772337,
          3.406508147961463,
          4.952298894288881,
          6.754937455019927,
          1.3183117769183228,
          1.364165237801127,
          1.1510588368760049,
          1.2160463608517802,
          1.2897671456460622,
          1.447962168327843,
          1.154959029448703,
          1.2673633931721808,
          1.2663368230640786,
          1.4038698193627328,
          1.5140432694283257,
          1.1377262076746464,
          1.309644158895329,
          1.3331550479518854,
          1.93227439644175,
          1.3318050406950008,
          1.3522147482013593,
          1.4184547160248062,
          1.3954923940679456,
          1.4387836648013321,
          1.247242709224339,
          1.2372425139282615,
          1.2672347543986513,
          1.2185483754409383,
          1.2418757166504546,
          1.3456957761652335,
          1.4859875173767647,
          1.321999853426448,
          1.3510454077301501,
          1.3646275113891138,
          1.4849870278684798,
          1.724257239045855,
          1.3272401431697949,
          1.4259402186220635,
          3.1562440657573227,
          3.7333426360692417,
          8.300013496337712
         ],
         "y": [
          -47.5,
          -80,
          -107.5,
          -90,
          -157.5,
          -200,
          -190,
          -270,
          -262.5,
          -251.25,
          -235.625,
          -201.25,
          -307.5,
          -337.5,
          -380,
          -370,
          -420,
          -480,
          -470,
          -507.5,
          -481.25,
          -570,
          -573.75,
          -555.625,
          -500.625,
          -640,
          -632.5,
          -690,
          -710,
          -696.25,
          -740,
          -760,
          -746.25,
          -712.1875,
          -800,
          -792.5,
          -830,
          -850,
          -836.25,
          -810,
          -897.5,
          -940,
          -930,
          -987.5,
          -990.625,
          -1057.5,
          -1042.5,
          -1110,
          -1140,
          -1143.75,
          -1121.25,
          -1064.453125,
          -985.6640625,
          -861.85546875,
          -1210,
          -1246.25,
          -1223.125,
          -1300,
          -1290,
          -1320,
          -1350,
          -1380,
          -1366.875,
          -1332.8125,
          -1430,
          -1422.5,
          -1429.375,
          -1490,
          -1520,
          -1570,
          -1558.75,
          -1590,
          -1562.8125,
          -1520.78125,
          -1630,
          -1622.5,
          -1677.5,
          -1663.75,
          -1730,
          -1722.5,
          -1711.25,
          -1675,
          -1570.7421875,
          -1417.71484375,
          -1029.8291015625,
          -1777.5,
          -1766.25,
          -1820,
          -1867.5,
          -1853.75,
          -1831.875,
          -1907.5,
          -1950,
          -1990,
          -1992.5,
          -1966.25,
          -2040,
          -2030,
          -2067.5,
          -2024.0625,
          -2120,
          -2140,
          -2126.25,
          -2196.25,
          -2178.125,
          -2247.5,
          -2290,
          -2282.5,
          -2330,
          -2322.5,
          -2313.75,
          -2293.75,
          -2400,
          -2430,
          -2422.5,
          -2406.25,
          -2381.875,
          -2460,
          -2484.6875,
          -2403.75,
          -2273.4375,
          -2091.171875
         ]
        }
       ],
       "layout": {
        "autosize": false,
        "height": 3950,
        "hoverlabel": {
         "bgcolor": "white",
         "font": {
          "family": "Rockwell",
          "size": 16
         }
        },
        "hovermode": "closest",
        "plot_bgcolor": "#ECEFF1",
        "showlegend": false,
        "template": {
         "data": {
          "bar": [
           {
            "error_x": {
             "color": "#2a3f5f"
            },
            "error_y": {
             "color": "#2a3f5f"
            },
            "marker": {
             "line": {
              "color": "white",
              "width": 0.5
             },
             "pattern": {
              "fillmode": "overlay",
              "size": 10,
              "solidity": 0.2
             }
            },
            "type": "bar"
           }
          ],
          "barpolar": [
           {
            "marker": {
             "line": {
              "color": "white",
              "width": 0.5
             },
             "pattern": {
              "fillmode": "overlay",
              "size": 10,
              "solidity": 0.2
             }
            },
            "type": "barpolar"
           }
          ],
          "carpet": [
           {
            "aaxis": {
             "endlinecolor": "#2a3f5f",
             "gridcolor": "#C8D4E3",
             "linecolor": "#C8D4E3",
             "minorgridcolor": "#C8D4E3",
             "startlinecolor": "#2a3f5f"
            },
            "baxis": {
             "endlinecolor": "#2a3f5f",
             "gridcolor": "#C8D4E3",
             "linecolor": "#C8D4E3",
             "minorgridcolor": "#C8D4E3",
             "startlinecolor": "#2a3f5f"
            },
            "type": "carpet"
           }
          ],
          "choropleth": [
           {
            "colorbar": {
             "outlinewidth": 0,
             "ticks": ""
            },
            "type": "choropleth"
           }
          ],
          "contour": [
           {
            "colorbar": {
             "outlinewidth": 0,
             "ticks": ""
            },
            "colorscale": [
             [
              0,
              "#0d0887"
             ],
             [
              0.1111111111111111,
              "#46039f"
             ],
             [
              0.2222222222222222,
              "#7201a8"
             ],
             [
              0.3333333333333333,
              "#9c179e"
             ],
             [
              0.4444444444444444,
              "#bd3786"
             ],
             [
              0.5555555555555556,
              "#d8576b"
             ],
             [
              0.6666666666666666,
              "#ed7953"
             ],
             [
              0.7777777777777778,
              "#fb9f3a"
             ],
             [
              0.8888888888888888,
              "#fdca26"
             ],
             [
              1,
              "#f0f921"
             ]
            ],
            "type": "contour"
           }
          ],
          "contourcarpet": [
           {
            "colorbar": {
             "outlinewidth": 0,
             "ticks": ""
            },
            "type": "contourcarpet"
           }
          ],
          "heatmap": [
           {
            "colorbar": {
             "outlinewidth": 0,
             "ticks": ""
            },
            "colorscale": [
             [
              0,
              "#0d0887"
             ],
             [
              0.1111111111111111,
              "#46039f"
             ],
             [
              0.2222222222222222,
              "#7201a8"
             ],
             [
              0.3333333333333333,
              "#9c179e"
             ],
             [
              0.4444444444444444,
              "#bd3786"
             ],
             [
              0.5555555555555556,
              "#d8576b"
             ],
             [
              0.6666666666666666,
              "#ed7953"
             ],
             [
              0.7777777777777778,
              "#fb9f3a"
             ],
             [
              0.8888888888888888,
              "#fdca26"
             ],
             [
              1,
              "#f0f921"
             ]
            ],
            "type": "heatmap"
           }
          ],
          "heatmapgl": [
           {
            "colorbar": {
             "outlinewidth": 0,
             "ticks": ""
            },
            "colorscale": [
             [
              0,
              "#0d0887"
             ],
             [
              0.1111111111111111,
              "#46039f"
             ],
             [
              0.2222222222222222,
              "#7201a8"
             ],
             [
              0.3333333333333333,
              "#9c179e"
             ],
             [
              0.4444444444444444,
              "#bd3786"
             ],
             [
              0.5555555555555556,
              "#d8576b"
             ],
             [
              0.6666666666666666,
              "#ed7953"
             ],
             [
              0.7777777777777778,
              "#fb9f3a"
             ],
             [
              0.8888888888888888,
              "#fdca26"
             ],
             [
              1,
              "#f0f921"
             ]
            ],
            "type": "heatmapgl"
           }
          ],
          "histogram": [
           {
            "marker": {
             "pattern": {
              "fillmode": "overlay",
              "size": 10,
              "solidity": 0.2
             }
            },
            "type": "histogram"
           }
          ],
          "histogram2d": [
           {
            "colorbar": {
             "outlinewidth": 0,
             "ticks": ""
            },
            "colorscale": [
             [
              0,
              "#0d0887"
             ],
             [
              0.1111111111111111,
              "#46039f"
             ],
             [
              0.2222222222222222,
              "#7201a8"
             ],
             [
              0.3333333333333333,
              "#9c179e"
             ],
             [
              0.4444444444444444,
              "#bd3786"
             ],
             [
              0.5555555555555556,
              "#d8576b"
             ],
             [
              0.6666666666666666,
              "#ed7953"
             ],
             [
              0.7777777777777778,
              "#fb9f3a"
             ],
             [
              0.8888888888888888,
              "#fdca26"
             ],
             [
              1,
              "#f0f921"
             ]
            ],
            "type": "histogram2d"
           }
          ],
          "histogram2dcontour": [
           {
            "colorbar": {
             "outlinewidth": 0,
             "ticks": ""
            },
            "colorscale": [
             [
              0,
              "#0d0887"
             ],
             [
              0.1111111111111111,
              "#46039f"
             ],
             [
              0.2222222222222222,
              "#7201a8"
             ],
             [
              0.3333333333333333,
              "#9c179e"
             ],
             [
              0.4444444444444444,
              "#bd3786"
             ],
             [
              0.5555555555555556,
              "#d8576b"
             ],
             [
              0.6666666666666666,
              "#ed7953"
             ],
             [
              0.7777777777777778,
              "#fb9f3a"
             ],
             [
              0.8888888888888888,
              "#fdca26"
             ],
             [
              1,
              "#f0f921"
             ]
            ],
            "type": "histogram2dcontour"
           }
          ],
          "mesh3d": [
           {
            "colorbar": {
             "outlinewidth": 0,
             "ticks": ""
            },
            "type": "mesh3d"
           }
          ],
          "parcoords": [
           {
            "line": {
             "colorbar": {
              "outlinewidth": 0,
              "ticks": ""
             }
            },
            "type": "parcoords"
           }
          ],
          "pie": [
           {
            "automargin": true,
            "type": "pie"
           }
          ],
          "scatter": [
           {
            "fillpattern": {
             "fillmode": "overlay",
             "size": 10,
             "solidity": 0.2
            },
            "type": "scatter"
           }
          ],
          "scatter3d": [
           {
            "line": {
             "colorbar": {
              "outlinewidth": 0,
              "ticks": ""
             }
            },
            "marker": {
             "colorbar": {
              "outlinewidth": 0,
              "ticks": ""
             }
            },
            "type": "scatter3d"
           }
          ],
          "scattercarpet": [
           {
            "marker": {
             "colorbar": {
              "outlinewidth": 0,
              "ticks": ""
             }
            },
            "type": "scattercarpet"
           }
          ],
          "scattergeo": [
           {
            "marker": {
             "colorbar": {
              "outlinewidth": 0,
              "ticks": ""
             }
            },
            "type": "scattergeo"
           }
          ],
          "scattergl": [
           {
            "marker": {
             "colorbar": {
              "outlinewidth": 0,
              "ticks": ""
             }
            },
            "type": "scattergl"
           }
          ],
          "scattermapbox": [
           {
            "marker": {
             "colorbar": {
              "outlinewidth": 0,
              "ticks": ""
             }
            },
            "type": "scattermapbox"
           }
          ],
          "scatterpolar": [
           {
            "marker": {
             "colorbar": {
              "outlinewidth": 0,
              "ticks": ""
             }
            },
            "type": "scatterpolar"
           }
          ],
          "scatterpolargl": [
           {
            "marker": {
             "colorbar": {
              "outlinewidth": 0,
              "ticks": ""
             }
            },
            "type": "scatterpolargl"
           }
          ],
          "scatterternary": [
           {
            "marker": {
             "colorbar": {
              "outlinewidth": 0,
              "ticks": ""
             }
            },
            "type": "scatterternary"
           }
          ],
          "surface": [
           {
            "colorbar": {
             "outlinewidth": 0,
             "ticks": ""
            },
            "colorscale": [
             [
              0,
              "#0d0887"
             ],
             [
              0.1111111111111111,
              "#46039f"
             ],
             [
              0.2222222222222222,
              "#7201a8"
             ],
             [
              0.3333333333333333,
              "#9c179e"
             ],
             [
              0.4444444444444444,
              "#bd3786"
             ],
             [
              0.5555555555555556,
              "#d8576b"
             ],
             [
              0.6666666666666666,
              "#ed7953"
             ],
             [
              0.7777777777777778,
              "#fb9f3a"
             ],
             [
              0.8888888888888888,
              "#fdca26"
             ],
             [
              1,
              "#f0f921"
             ]
            ],
            "type": "surface"
           }
          ],
          "table": [
           {
            "cells": {
             "fill": {
              "color": "#EBF0F8"
             },
             "line": {
              "color": "white"
             }
            },
            "header": {
             "fill": {
              "color": "#C8D4E3"
             },
             "line": {
              "color": "white"
             }
            },
            "type": "table"
           }
          ]
         },
         "layout": {
          "annotationdefaults": {
           "arrowcolor": "#2a3f5f",
           "arrowhead": 0,
           "arrowwidth": 1
          },
          "autotypenumbers": "strict",
          "coloraxis": {
           "colorbar": {
            "outlinewidth": 0,
            "ticks": ""
           }
          },
          "colorscale": {
           "diverging": [
            [
             0,
             "#8e0152"
            ],
            [
             0.1,
             "#c51b7d"
            ],
            [
             0.2,
             "#de77ae"
            ],
            [
             0.3,
             "#f1b6da"
            ],
            [
             0.4,
             "#fde0ef"
            ],
            [
             0.5,
             "#f7f7f7"
            ],
            [
             0.6,
             "#e6f5d0"
            ],
            [
             0.7,
             "#b8e186"
            ],
            [
             0.8,
             "#7fbc41"
            ],
            [
             0.9,
             "#4d9221"
            ],
            [
             1,
             "#276419"
            ]
           ],
           "sequential": [
            [
             0,
             "#0d0887"
            ],
            [
             0.1111111111111111,
             "#46039f"
            ],
            [
             0.2222222222222222,
             "#7201a8"
            ],
            [
             0.3333333333333333,
             "#9c179e"
            ],
            [
             0.4444444444444444,
             "#bd3786"
            ],
            [
             0.5555555555555556,
             "#d8576b"
            ],
            [
             0.6666666666666666,
             "#ed7953"
            ],
            [
             0.7777777777777778,
             "#fb9f3a"
            ],
            [
             0.8888888888888888,
             "#fdca26"
            ],
            [
             1,
             "#f0f921"
            ]
           ],
           "sequentialminus": [
            [
             0,
             "#0d0887"
            ],
            [
             0.1111111111111111,
             "#46039f"
            ],
            [
             0.2222222222222222,
             "#7201a8"
            ],
            [
             0.3333333333333333,
             "#9c179e"
            ],
            [
             0.4444444444444444,
             "#bd3786"
            ],
            [
             0.5555555555555556,
             "#d8576b"
            ],
            [
             0.6666666666666666,
             "#ed7953"
            ],
            [
             0.7777777777777778,
             "#fb9f3a"
            ],
            [
             0.8888888888888888,
             "#fdca26"
            ],
            [
             1,
             "#f0f921"
            ]
           ]
          },
          "colorway": [
           "#636efa",
           "#EF553B",
           "#00cc96",
           "#ab63fa",
           "#FFA15A",
           "#19d3f3",
           "#FF6692",
           "#B6E880",
           "#FF97FF",
           "#FECB52"
          ],
          "font": {
           "color": "#2a3f5f"
          },
          "geo": {
           "bgcolor": "white",
           "lakecolor": "white",
           "landcolor": "white",
           "showlakes": true,
           "showland": true,
           "subunitcolor": "#C8D4E3"
          },
          "hoverlabel": {
           "align": "left"
          },
          "hovermode": "closest",
          "mapbox": {
           "style": "light"
          },
          "paper_bgcolor": "white",
          "plot_bgcolor": "white",
          "polar": {
           "angularaxis": {
            "gridcolor": "#EBF0F8",
            "linecolor": "#EBF0F8",
            "ticks": ""
           },
           "bgcolor": "white",
           "radialaxis": {
            "gridcolor": "#EBF0F8",
            "linecolor": "#EBF0F8",
            "ticks": ""
           }
          },
          "scene": {
           "xaxis": {
            "backgroundcolor": "white",
            "gridcolor": "#DFE8F3",
            "gridwidth": 2,
            "linecolor": "#EBF0F8",
            "showbackground": true,
            "ticks": "",
            "zerolinecolor": "#EBF0F8"
           },
           "yaxis": {
            "backgroundcolor": "white",
            "gridcolor": "#DFE8F3",
            "gridwidth": 2,
            "linecolor": "#EBF0F8",
            "showbackground": true,
            "ticks": "",
            "zerolinecolor": "#EBF0F8"
           },
           "zaxis": {
            "backgroundcolor": "white",
            "gridcolor": "#DFE8F3",
            "gridwidth": 2,
            "linecolor": "#EBF0F8",
            "showbackground": true,
            "ticks": "",
            "zerolinecolor": "#EBF0F8"
           }
          },
          "shapedefaults": {
           "line": {
            "color": "#2a3f5f"
           }
          },
          "ternary": {
           "aaxis": {
            "gridcolor": "#DFE8F3",
            "linecolor": "#A2B1C6",
            "ticks": ""
           },
           "baxis": {
            "gridcolor": "#DFE8F3",
            "linecolor": "#A2B1C6",
            "ticks": ""
           },
           "bgcolor": "white",
           "caxis": {
            "gridcolor": "#DFE8F3",
            "linecolor": "#A2B1C6",
            "ticks": ""
           }
          },
          "title": {
           "x": 0.05
          },
          "xaxis": {
           "automargin": true,
           "gridcolor": "#EBF0F8",
           "linecolor": "#EBF0F8",
           "ticks": "",
           "title": {
            "standoff": 15
           },
           "zerolinecolor": "#EBF0F8",
           "zerolinewidth": 2
          },
          "yaxis": {
           "automargin": true,
           "gridcolor": "#EBF0F8",
           "linecolor": "#EBF0F8",
           "ticks": "",
           "title": {
            "standoff": 15
           },
           "zerolinecolor": "#EBF0F8",
           "zerolinewidth": 2
          }
         }
        },
        "title": {
         "font": {
          "color": "Black",
          "size": 22
         },
         "text": "<b>Hierarchical Clustering</b>",
         "x": 0.5,
         "xanchor": "center",
         "yanchor": "top"
        },
        "width": 1000,
        "xaxis": {
         "mirror": "allticks",
         "rangemode": "tozero",
         "showgrid": false,
         "showline": true,
         "showticklabels": true,
         "ticks": "outside",
         "type": "linear",
         "zeroline": false
        },
        "yaxis": {
         "mirror": "allticks",
         "range": [
          -2500,
          0
         ],
         "rangemode": "tozero",
         "showgrid": false,
         "showline": true,
         "showticklabels": true,
         "tickmode": "array",
         "ticks": "outside",
         "ticktext": [
          "18_greece_athens_athenians",
          "24_egypt_palestine_jerusalem",
          "156_egypt_nile_mamlukes",
          "20_mohammed_caliph_koran",
          "7_caesar_cicero_virgil",
          "28_cervantes_columbus_madrid",
          "111_france_thousand_napoleon",
          "44_nelson_navy_fleet",
          "0_county_acres_borough",
          "56_exchange_money_currency",
          "15_police_prisons_law",
          "60_infantry_regiments_army",
          "69_knox_edinburgh_scotland",
          "23_shakespeare_shakespeares...",
          "12_oxford_sermons_college",
          "22_lord_cromwell_fairfax",
          "3_paris_la_de",
          "19_florence_petrarch_italian",
          "14_der_luther_und",
          "36_physician_dr_hunter",
          "35_painter_academy_portraits",
          "91_beauty_happiness_moral",
          "27_socrates_plato_athens",
          "112_god_religions_theology",
          "72_epistle_luke_gospel",
          "128_psalms_categories_midrash",
          "34_heresy_sect_heretics",
          "47_bishops_canon_church",
          "144_greenland_strait_ice",
          "39_congo_niger_africa",
          "2_islands_island_java",
          "135_japanese_japan_yedo",
          "65_island_jamaica_barbados",
          "41_buenos_ayres_peru",
          "21_china_chinese_foo",
          "1_prussia_germany_saxony",
          "8_italy_di_cathedral",
          "68_canton_zurich_bern",
          "33_denmark_sweden_norway",
          "70_dutch_holland_netherlands",
          "76_belgium_brussels_ghent",
          "4_arrondissement_department...",
          "31_department_loire_arrondi...",
          "13_spain_province_madrid",
          "147_zante_malta_corfu",
          "131_palmyra_lebanon_damascus",
          "92_mecca_arabia_yemen",
          "222_morocco_sahara_algeria",
          "45_persia_tigris_baghdad",
          "133_burmese_pegu_burmah",
          "10_district_hindus_bengal",
          "50_mahratta_mahrattas_madras",
          "104_teneriffe_azores_canary",
          "119_rio_para_pernambuco",
          "155_ceylon_colombo_sinhalese",
          "206_salzburg_styria_hall",
          "26_moscow_petersburg_russia",
          "132_caucasus_tiflis_caspian",
          "237_antioch_alexandria_sele...",
          "187_bonnet_dran_ettmuller",
          "223_craig_landen_flamsteed",
          "243_bacon_occam_opus",
          "138_poushkin_russian_peters...",
          "149_mrs_her_she",
          "207_burns_fergusson_muse",
          "80_antigonus_demetrius_eume...",
          "130_emperor_constantius_con...",
          "114_catherine_czar_empress",
          "105_alphonso_castile_ferdin...",
          "127_henry_warwick_richard",
          "203_bruce_james_mar",
          "159_her_she_elizabeth",
          "241_ambassador_diplomatic_d...",
          "201_witt_barneveldt_orange",
          "115_harold_danes_alfred",
          "238_templars_grandmaster_ho...",
          "102_franciscans_friars_capu...",
          "118_bible_targum_bibles",
          "171_priestly_pentateuch_deu...",
          "152_prophets_job_israel",
          "66_israel_prophet_judah",
          "200_noah_deluge_ark",
          "183_sacrifice_sacrifices_pi...",
          "86_baptism_sacrament_liturgy",
          "106_sunday_sabbath_easter",
          "84_fasti_graal_month",
          "140_poland_boleslas_warsaw",
          "227_gustavus_sweden_swedes",
          "54_cond_louis_charles",
          "58_frederick_poland_emperor",
          "73_jefferson_congress_virgi...",
          "244_university_students_uni...",
          "150_synod_presbyterian_mini...",
          "25_pope_pontificate_gregory",
          "52_ambrose_pelagius_athanas...",
          "229_slave_slaves_slavery",
          "75_marriage_divorce_husband",
          "82_peerage_nobility_peers",
          "88_inns_registration_inn",
          "48_tribunes_consuls_comitia",
          "174_chivalry_knights_knight...",
          "55_coins_coinage_coin",
          "89_lamp_burial_dead",
          "6_goddess_jupiter_she",
          "107_caste_brahman_sanskrit",
          "32_8vo_ib_verb",
          "117_instinct_association_in...",
          "173_laplace_legendre_laplaces",
          "77_astronomy_astronomer_obs...",
          "148_herschel_boole_anderson",
          "62_linnaeus_upsala_wohler",
          "96_watervapour_jussieu_lavo...",
          "63_louvre_ingres_painter",
          "46_van_rubens_painter",
          "16_painter_florence_raphael",
          "40_composer_opera_music",
          "43_cos_sin_tan",
          "49_equation_equations_cos",
          "74_sun_planet_stars",
          "101_rays_spectrum_light",
          "143_motion_velocity_forces",
          "125_velocity_piston_wheel",
          "83_vapour_heat_stove",
          "215_electricity_electrical_...",
          "146_thermometers_mercury_hy...",
          "189_liquid_thermometric_sur...",
          "5_disease_symptoms_diseases",
          "124_crop_crops_farm",
          "57_warp_wool_yarn",
          "139_architecture_mouldings_...",
          "116_ink_printing_raffaelle",
          "110_load_water_depth",
          "98_winds_diurnal_atmosphere",
          "158_ship_ships_sheer",
          "17_ship_anchor_rope",
          "97_gun_guns_artillery",
          "87_parapet_ditch_fortificat...",
          "218_hive_bees_hives",
          "79_malt_wines_fermentation",
          "161_evolution_sexual_ovum",
          "126_serpents_snakes_snake",
          "37_antennae_insects_genus",
          "30_fishes_fins_fin",
          "38_molars_teeth_tail",
          "29_birds_bird_plumage",
          "165_blind_cornea_eye",
          "240_baths_bathing_bath",
          "157_exercises_gymnastics_gy...",
          "113_calendar_epact_epacts",
          "166_ptolemy_almagest_apollo...",
          "71_sound_symbol_alphabet",
          "81_melody_music_chord",
          "42_trumpet_strings_instrument",
          "145_pendulum_pallet_clock",
          "120_printing_types_mainz",
          "93_player_cards_game",
          "245_insurance_assurance_ins...",
          "141_arkwright_watt_inventions",
          "64_worn_costume_sleeves",
          "196_sculpture_reliefs_effig...",
          "176_birds_breeds_fowls",
          "109_wheats_herbarium_wheat",
          "61_flowers_plant_flower",
          "103_rhubarb_lemon_rind",
          "194_coal_coals_seams",
          "67_diamond_carats_diamonds",
          "248_alloy_bronze_brass",
          "249_moulds_mould_hones",
          "224_brit_avoird_lbs",
          "122_platinum_metals_cobalt",
          "175_alum_alumslate_sulphate",
          "195_leather_skins_tanning",
          "231_oils_oil_fats",
          "167_rubber_caoutchouc_gum",
          "186_sandalwood_wood_ebony",
          "214_temples_jain_sikri",
          "163_bosnia_warasdin_slavonia",
          "191_oran_mascara_alkebir",
          "235_esthonian_oesel_esthoni...",
          "137_mexico_chihuahua_san",
          "134_malo_brest_toulon",
          "78_turkey_mosques_shemaha",
          "90_alhambra_moorish_granada",
          "121_oka_volga_dnieper",
          "51_yenisei_tobolsk_irkutsk",
          "180_oxus_hissar_bokhara",
          "190_bosphorus_crimea_sea",
          "236_berbice_guiana_cayenne",
          "100_apelles_protogenes_zeuxis",
          "168_gladiators_arena_circus",
          "151_games_agon_olympian",
          "59_festival_feast_thesmopho...",
          "185_bernard_clairvaux_lanfr...",
          "85_wycliffe_wycliffes_coronet",
          "209_steward_chamberlain_reg...",
          "53_argent_gules_sable",
          "193_artaxerxes_darius_ahasu...",
          "226_abram_levites_levi",
          "221_excommunication_ordeal_...",
          "181_gaelic_mac_irish",
          "220_aesir_baldur_brunhild",
          "197_thugut_hofer_radetzky",
          "198_eccelino_azzo_enzio",
          "199_hannibal_hasdrubal_hami...",
          "210_pelopidas_pisistratus_e...",
          "208_purcell_organist_music",
          "142_tegnr_swedish_dalin",
          "192_pesth_hungarian_magyar",
          "230_preexistent_preexistenc...",
          "129_affirmative_syllogism_p...",
          "99_music_allegro_canto",
          "95_sonnet_sestet_spondee",
          "94_manege_horse_airings",
          "153_column_columns_architec...",
          "232_muses_mnemosyne_euterpe",
          "225_cumae_cumaeans_taormina",
          "246_mates_marines_quartergu...",
          "212_arvales_gerontes_ostrac...",
          "172_pillory_guillotine_puni...",
          "184_caricature_grotesque_da...",
          "177_rabbenu_rashi_talmud",
          "136_goorackpoor_ghizni_hind...",
          "9_hindustan_lat_province",
          "169_hindustan_rungpoor_lat",
          "179_narnoul_hindustan_nilcund",
          "202_carnatic_pondicherry_tr...",
          "239_ardres_meance_armiers",
          "234_bruck_pusterthal_rientz",
          "204_buccari_quarano_bicla",
          "242_neutra_neutitschein_hra...",
          "164_aubin_aumale_aube",
          "233_ceneda_cephaloedium_cer...",
          "178_chiusa_chiusi_chiaramonte",
          "217_calvi_intendancy_calata...",
          "170_barrel_measure_aume",
          "228_batenites_batava_batavo...",
          "160_aconitum_aconite_acanthus",
          "108_constellation_astronomy...",
          "182_divination_crithomancy_...",
          "216_couriers_hemerodromi_di...",
          "205_decempeda_pedatura_palmus",
          "162_architriclinus_archchan...",
          "247_apostasy_apostasis_cler...",
          "219_coenobites_convent_nuns",
          "211_vii_hermupolis_753754",
          "188_persia_khosru_915778",
          "123_vol_mongoos_mungoos",
          "213_sainthilaire_loanda_tro...",
          "11_see_vsrhely_tostatus",
          "154_ornithology_index_mew"
         ],
         "tickvals": [
          -5,
          -15,
          -25,
          -35,
          -45,
          -55,
          -65,
          -75,
          -85,
          -95,
          -105,
          -115,
          -125,
          -135,
          -145,
          -155,
          -165,
          -175,
          -185,
          -195,
          -205,
          -215,
          -225,
          -235,
          -245,
          -255,
          -265,
          -275,
          -285,
          -295,
          -305,
          -315,
          -325,
          -335,
          -345,
          -355,
          -365,
          -375,
          -385,
          -395,
          -405,
          -415,
          -425,
          -435,
          -445,
          -455,
          -465,
          -475,
          -485,
          -495,
          -505,
          -515,
          -525,
          -535,
          -545,
          -555,
          -565,
          -575,
          -585,
          -595,
          -605,
          -615,
          -625,
          -635,
          -645,
          -655,
          -665,
          -675,
          -685,
          -695,
          -705,
          -715,
          -725,
          -735,
          -745,
          -755,
          -765,
          -775,
          -785,
          -795,
          -805,
          -815,
          -825,
          -835,
          -845,
          -855,
          -865,
          -875,
          -885,
          -895,
          -905,
          -915,
          -925,
          -935,
          -945,
          -955,
          -965,
          -975,
          -985,
          -995,
          -1005,
          -1015,
          -1025,
          -1035,
          -1045,
          -1055,
          -1065,
          -1075,
          -1085,
          -1095,
          -1105,
          -1115,
          -1125,
          -1135,
          -1145,
          -1155,
          -1165,
          -1175,
          -1185,
          -1195,
          -1205,
          -1215,
          -1225,
          -1235,
          -1245,
          -1255,
          -1265,
          -1275,
          -1285,
          -1295,
          -1305,
          -1315,
          -1325,
          -1335,
          -1345,
          -1355,
          -1365,
          -1375,
          -1385,
          -1395,
          -1405,
          -1415,
          -1425,
          -1435,
          -1445,
          -1455,
          -1465,
          -1475,
          -1485,
          -1495,
          -1505,
          -1515,
          -1525,
          -1535,
          -1545,
          -1555,
          -1565,
          -1575,
          -1585,
          -1595,
          -1605,
          -1615,
          -1625,
          -1635,
          -1645,
          -1655,
          -1665,
          -1675,
          -1685,
          -1695,
          -1705,
          -1715,
          -1725,
          -1735,
          -1745,
          -1755,
          -1765,
          -1775,
          -1785,
          -1795,
          -1805,
          -1815,
          -1825,
          -1835,
          -1845,
          -1855,
          -1865,
          -1875,
          -1885,
          -1895,
          -1905,
          -1915,
          -1925,
          -1935,
          -1945,
          -1955,
          -1965,
          -1975,
          -1985,
          -1995,
          -2005,
          -2015,
          -2025,
          -2035,
          -2045,
          -2055,
          -2065,
          -2075,
          -2085,
          -2095,
          -2105,
          -2115,
          -2125,
          -2135,
          -2145,
          -2155,
          -2165,
          -2175,
          -2185,
          -2195,
          -2205,
          -2215,
          -2225,
          -2235,
          -2245,
          -2255,
          -2265,
          -2275,
          -2285,
          -2295,
          -2305,
          -2315,
          -2325,
          -2335,
          -2345,
          -2355,
          -2365,
          -2375,
          -2385,
          -2395,
          -2405,
          -2415,
          -2425,
          -2435,
          -2445,
          -2455,
          -2465,
          -2475,
          -2485,
          -2495
         ],
         "type": "linear",
         "zeroline": false
        }
       }
      }
     },
     "metadata": {},
     "output_type": "display_data"
    }
   ],
   "source": [
    "model.visualize_hierarchy(hierarchical_topics=hierarchical_topics)"
   ]
  },
  {
   "cell_type": "code",
   "execution_count": 10,
   "metadata": {},
   "outputs": [],
   "source": [
    "topics = model.get_topics()\n",
    "new_topics = model.reduce_outliers(docs, topics)"
   ]
  },
  {
   "cell_type": "code",
   "execution_count": 11,
   "metadata": {},
   "outputs": [
    {
     "name": "stdout",
     "output_type": "stream",
     "text": [
      "[0, 0, 1, 2, 3, 4, 5, 6, 7, 8]\n"
     ]
    }
   ],
   "source": [
    "print(new_topics)\n"
   ]
  },
  {
   "cell_type": "code",
   "execution_count": null,
   "metadata": {},
   "outputs": [],
   "source": []
  }
 ],
 "metadata": {
  "kernelspec": {
   "display_name": "venv",
   "language": "python",
   "name": "python3"
  },
  "language_info": {
   "codemirror_mode": {
    "name": "ipython",
    "version": 3
   },
   "file_extension": ".py",
   "mimetype": "text/x-python",
   "name": "python",
   "nbconvert_exporter": "python",
   "pygments_lexer": "ipython3",
   "version": "3.10.6"
  },
  "orig_nbformat": 4,
  "vscode": {
   "interpreter": {
    "hash": "2327109c9ca5d6b5c3d3689be65b4b6e97050d3f919feae11549504f3af7a5a9"
   }
  }
 },
 "nbformat": 4,
 "nbformat_minor": 2
}
